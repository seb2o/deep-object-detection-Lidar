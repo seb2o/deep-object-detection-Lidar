{
 "cells": [
  {
   "cell_type": "raw",
   "source": [],
   "metadata": {
    "collapsed": false
   },
   "id": "63058c5f5b337fed"
  },
  {
   "cell_type": "code",
   "execution_count": 1,
   "id": "70769bdaf5317994",
   "metadata": {
    "collapsed": false,
    "ExecuteTime": {
     "end_time": "2024-04-10T08:37:06.875732Z",
     "start_time": "2024-04-10T08:37:00.563421700Z"
    }
   },
   "outputs": [],
   "source": [
    "from ultralytics import YOLO, checks\n",
    "import torch"
   ]
  },
  {
   "cell_type": "code",
   "outputs": [
    {
     "data": {
      "text/plain": "True"
     },
     "execution_count": 2,
     "metadata": {},
     "output_type": "execute_result"
    }
   ],
   "source": [
    "torch.cuda.is_available()"
   ],
   "metadata": {
    "collapsed": false,
    "ExecuteTime": {
     "end_time": "2024-04-10T08:37:06.974122800Z",
     "start_time": "2024-04-10T08:37:06.861183700Z"
    }
   },
   "id": "ef2080548e1d688d",
   "execution_count": 2
  },
  {
   "cell_type": "code",
   "outputs": [
    {
     "name": "stdout",
     "output_type": "stream",
     "text": [
      "Ultralytics YOLOv8.1.45  Python-3.9.13 torch-2.2.2+cu121 CUDA:0 (NVIDIA GeForce RTX 3060 Laptop GPU, 6144MiB)\n",
      "Setup complete  (12 CPUs, 15.9 GB RAM, 146.0/446.4 GB disk)\n"
     ]
    }
   ],
   "source": [
    "checks()"
   ],
   "metadata": {
    "collapsed": false
   },
   "id": "7504768c64e3bee1",
   "execution_count": 3
  },
  {
   "cell_type": "code",
   "outputs": [
    {
     "name": "stdout",
     "output_type": "stream",
     "text": [
      "\n",
      "Found https://media.roboflow.com/notebooks/examples/dog.jpeg locally at dog.jpeg\n",
      "image 1/1 C:\\Users\\menbu\\PycharmProjects\\dlProject\\dog.jpeg: 640x384 1 person, 1 car, 1 dog, 193.5ms\n",
      "Speed: 4.0ms preprocess, 193.5ms inference, 1392.8ms postprocess per image at shape (1, 3, 640, 384)\n"
     ]
    },
    {
     "data": {
      "text/plain": "[ultralytics.engine.results.Results object with attributes:\n \n boxes: ultralytics.engine.results.Boxes object\n keypoints: None\n masks: None\n names: {0: 'person', 1: 'bicycle', 2: 'car', 3: 'motorcycle', 4: 'airplane', 5: 'bus', 6: 'train', 7: 'truck', 8: 'boat', 9: 'traffic light', 10: 'fire hydrant', 11: 'stop sign', 12: 'parking meter', 13: 'bench', 14: 'bird', 15: 'cat', 16: 'dog', 17: 'horse', 18: 'sheep', 19: 'cow', 20: 'elephant', 21: 'bear', 22: 'zebra', 23: 'giraffe', 24: 'backpack', 25: 'umbrella', 26: 'handbag', 27: 'tie', 28: 'suitcase', 29: 'frisbee', 30: 'skis', 31: 'snowboard', 32: 'sports ball', 33: 'kite', 34: 'baseball bat', 35: 'baseball glove', 36: 'skateboard', 37: 'surfboard', 38: 'tennis racket', 39: 'bottle', 40: 'wine glass', 41: 'cup', 42: 'fork', 43: 'knife', 44: 'spoon', 45: 'bowl', 46: 'banana', 47: 'apple', 48: 'sandwich', 49: 'orange', 50: 'broccoli', 51: 'carrot', 52: 'hot dog', 53: 'pizza', 54: 'donut', 55: 'cake', 56: 'chair', 57: 'couch', 58: 'potted plant', 59: 'bed', 60: 'dining table', 61: 'toilet', 62: 'tv', 63: 'laptop', 64: 'mouse', 65: 'remote', 66: 'keyboard', 67: 'cell phone', 68: 'microwave', 69: 'oven', 70: 'toaster', 71: 'sink', 72: 'refrigerator', 73: 'book', 74: 'clock', 75: 'vase', 76: 'scissors', 77: 'teddy bear', 78: 'hair drier', 79: 'toothbrush'}\n obb: None\n orig_img: array([[[202, 157, 120],\n         [202, 157, 120],\n         [202, 157, 120],\n         ...,\n         [199, 161, 129],\n         [198, 160, 128],\n         [198, 160, 128]],\n \n        [[201, 156, 119],\n         [201, 156, 119],\n         [201, 156, 119],\n         ...,\n         [199, 161, 129],\n         [199, 161, 129],\n         [198, 160, 128]],\n \n        [[201, 156, 119],\n         [201, 156, 119],\n         [201, 156, 119],\n         ...,\n         [200, 162, 130],\n         [199, 161, 129],\n         [199, 161, 129]],\n \n        ...,\n \n        [[202, 204, 205],\n         [220, 222, 223],\n         [233, 235, 236],\n         ...,\n         [109, 124, 150],\n         [112, 126, 154],\n         [106, 123, 150]],\n \n        [[197, 199, 200],\n         [225, 227, 228],\n         [220, 222, 223],\n         ...,\n         [106, 121, 147],\n         [105, 119, 147],\n         [105, 121, 150]],\n \n        [[208, 210, 211],\n         [194, 196, 197],\n         [221, 223, 224],\n         ...,\n         [103, 118, 144],\n         [106, 120, 148],\n         [118, 134, 163]]], dtype=uint8)\n orig_shape: (1280, 720)\n path: 'C:\\\\Users\\\\menbu\\\\PycharmProjects\\\\dlProject\\\\dog.jpeg'\n probs: None\n save_dir: 'C:\\\\Users\\\\menbu\\\\PycharmProjects\\\\dlProject\\\\runs\\\\detect\\\\predict'\n speed: {'preprocess': 4.000663757324219, 'inference': 193.5102939605713, 'postprocess': 1392.8437232971191}]"
     },
     "execution_count": 4,
     "metadata": {},
     "output_type": "execute_result"
    }
   ],
   "source": [
    "model = YOLO('yolov8n.pt')\n",
    "model.to(\"cuda\")\n",
    "model.predict(\n",
    "   source='https://media.roboflow.com/notebooks/examples/dog.jpeg',\n",
    "   conf=0.25,\n",
    "   show=True\n",
    ")"
   ],
   "metadata": {
    "collapsed": true,
    "ExecuteTime": {
     "end_time": "2024-04-10T08:37:10.723839600Z",
     "start_time": "2024-04-10T08:37:07.001851100Z"
    }
   },
   "id": "initial_id",
   "execution_count": 4
  }
 ],
 "metadata": {
  "kernelspec": {
   "name": "venv",
   "language": "python",
   "display_name": "Python (whatever you want to call it)"
  },
  "language_info": {
   "codemirror_mode": {
    "name": "ipython",
    "version": 2
   },
   "file_extension": ".py",
   "mimetype": "text/x-python",
   "name": "python",
   "nbconvert_exporter": "python",
   "pygments_lexer": "ipython2",
   "version": "2.7.6"
  }
 },
 "nbformat": 4,
 "nbformat_minor": 5
}
