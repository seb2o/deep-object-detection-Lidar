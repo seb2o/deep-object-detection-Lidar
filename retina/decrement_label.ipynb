{
 "cells": [
  {
   "cell_type": "code",
   "execution_count": 1,
   "id": "initial_id",
   "metadata": {
    "ExecuteTime": {
     "end_time": "2024-04-30T14:43:33.710642Z",
     "start_time": "2024-04-30T14:43:33.704939100Z"
    },
    "collapsed": true
   },
   "outputs": [],
   "source": [
    "import os\n",
    "\n",
    "import matplotlib.pyplot as plt\n",
    "import numpy as np\n",
    "import pandas as pd"
   ]
  },
  {
   "cell_type": "code",
   "execution_count": 13,
   "id": "f9f014b4",
   "metadata": {},
   "outputs": [],
   "source": [
    "file_location = \"../NAPLab-LiDAR\"\n",
    "old_label_path = os.path.join(file_location, \"old_labels\")\n",
    "new_label_path = os.path.join(file_location, \"new_labels\")"
   ]
  },
  {
   "cell_type": "code",
   "execution_count": 9,
   "id": "1e22507b0fe6e12e",
   "metadata": {
    "ExecuteTime": {
     "end_time": "2024-04-30T14:45:45.516732700Z",
     "start_time": "2024-04-30T14:45:43.137396100Z"
    },
    "collapsed": false
   },
   "outputs": [
    {
     "data": {
      "text/plain": [
       "0        0\n",
       "1        0\n",
       "2        0\n",
       "3        6\n",
       "4        6\n",
       "        ..\n",
       "23564    6\n",
       "23565    6\n",
       "23566    6\n",
       "23567    6\n",
       "23568    6\n",
       "Name: classID, Length: 23569, dtype: int64"
      ]
     },
     "execution_count": 9,
     "metadata": {},
     "output_type": "execute_result"
    }
   ],
   "source": [
    "files = os.listdir(old_label_path)\n",
    "col_labels = ['classID', 'x', 'y', 'width', 'height']\n",
    "dataset_boxes : pd.DataFrame = pd.concat([\n",
    "    pd.read_csv(os.path.join(old_label_path, filename),\n",
    "        sep=' ',\n",
    "        names=col_labels)\n",
    "    .reindex(['frame', *col_labels], axis='columns')\n",
    "    .assign(frame=filename)\n",
    "    for filename in files\n",
    "], ignore_index=True)\n",
    "dataset_boxes.classID"
   ]
  },
  {
   "cell_type": "code",
   "execution_count": 10,
   "id": "85d4b229de02b86",
   "metadata": {
    "ExecuteTime": {
     "end_time": "2024-04-30T14:45:50.226922300Z",
     "start_time": "2024-04-30T14:45:50.217151300Z"
    },
    "collapsed": false
   },
   "outputs": [],
   "source": [
    "tmp = dataset_boxes.copy(deep=True)\n",
    "tmp['classID'] = dataset_boxes['classID'].apply(lambda c: c if c < 3 else c-1 )"
   ]
  },
  {
   "cell_type": "code",
   "execution_count": 11,
   "id": "c24845b944a72ddd",
   "metadata": {
    "ExecuteTime": {
     "end_time": "2024-04-30T14:45:52.609145300Z",
     "start_time": "2024-04-30T14:45:52.601348800Z"
    },
    "collapsed": false
   },
   "outputs": [
    {
     "data": {
      "text/plain": [
       "classID\n",
       "-1    12013\n",
       " 0    11556\n",
       "Name: count, dtype: int64"
      ]
     },
     "execution_count": 11,
     "metadata": {},
     "output_type": "execute_result"
    }
   ],
   "source": [
    "(tmp.classID - dataset_boxes.classID).value_counts() "
   ]
  },
  {
   "cell_type": "code",
   "execution_count": 12,
   "id": "ac26d76f67fbc097",
   "metadata": {
    "ExecuteTime": {
     "end_time": "2024-04-30T14:47:16.113233600Z",
     "start_time": "2024-04-30T14:47:14.321841600Z"
    },
    "collapsed": false
   },
   "outputs": [],
   "source": [
    "g =  tmp.groupby('frame')\n",
    "for name, group in g:\n",
    "    group.drop(columns='frame').to_csv(os.path.join(new_label_path, name), sep=' ', header=None, index=False)"
   ]
  }
 ],
 "metadata": {
  "kernelspec": {
   "display_name": "Python 3",
   "language": "python",
   "name": "python3"
  },
  "language_info": {
   "codemirror_mode": {
    "name": "ipython",
    "version": 3
   },
   "file_extension": ".py",
   "mimetype": "text/x-python",
   "name": "python",
   "nbconvert_exporter": "python",
   "pygments_lexer": "ipython3",
   "version": "3.12.1"
  }
 },
 "nbformat": 4,
 "nbformat_minor": 5
}
