{
 "cells": [
  {
   "cell_type": "code",
   "execution_count": 1,
   "id": "initial_id",
   "metadata": {
    "collapsed": true,
    "ExecuteTime": {
     "end_time": "2024-05-01T18:32:55.845649600Z",
     "start_time": "2024-05-01T18:32:54.787062200Z"
    }
   },
   "outputs": [],
   "source": [
    "import os\n",
    "\n",
    "import matplotlib.pyplot as plt\n",
    "import numpy as np\n",
    "import pandas as pd"
   ]
  },
  {
   "cell_type": "code",
   "outputs": [
    {
     "data": {
      "text/plain": "0        0\n1        0\n2        0\n3        6\n4        6\n        ..\n23564    6\n23565    6\n23566    6\n23567    6\n23568    6\nName: classID, Length: 23569, dtype: int64"
     },
     "execution_count": 2,
     "metadata": {},
     "output_type": "execute_result"
    }
   ],
   "source": [
    "files = os.listdir('../NAPLab-LiDAR/old_labels/')\n",
    "col_labels = ['classID', 'x', 'y', 'width', 'height']\n",
    "dataset_boxes : pd.DataFrame = pd.concat([\n",
    "    pd.read_csv(\n",
    "        f\"../NAPLab-LiDAR/old_labels/{filename}\",\n",
    "        sep=' ',\n",
    "        names=col_labels)\n",
    "    .reindex(['frame', *col_labels], axis='columns')\n",
    "    .assign(frame=filename)\n",
    "    for filename in files\n",
    "], ignore_index=True)\n",
    "dataset_boxes.classID"
   ],
   "metadata": {
    "collapsed": false,
    "ExecuteTime": {
     "end_time": "2024-05-01T18:33:00.020474Z",
     "start_time": "2024-05-01T18:32:56.615571Z"
    }
   },
   "id": "1e22507b0fe6e12e",
   "execution_count": 2
  },
  {
   "cell_type": "code",
   "outputs": [],
   "source": [
    "tmp = dataset_boxes.copy(deep=True)\n",
    "tmp['classID'] = dataset_boxes['classID'].apply(lambda c: c if c < 3 else c-1 )"
   ],
   "metadata": {
    "collapsed": false,
    "ExecuteTime": {
     "end_time": "2024-05-01T18:35:38.642589500Z",
     "start_time": "2024-05-01T18:35:38.627985700Z"
    }
   },
   "id": "85d4b229de02b86",
   "execution_count": 3
  },
  {
   "cell_type": "code",
   "outputs": [
    {
     "data": {
      "text/plain": "classID\n-1    12013\n 0    11556\nName: count, dtype: int64"
     },
     "execution_count": 4,
     "metadata": {},
     "output_type": "execute_result"
    }
   ],
   "source": [
    "(tmp.classID - dataset_boxes.classID).value_counts() "
   ],
   "metadata": {
    "collapsed": false,
    "ExecuteTime": {
     "end_time": "2024-05-01T18:36:35.622805800Z",
     "start_time": "2024-05-01T18:36:35.616065100Z"
    }
   },
   "id": "c24845b944a72ddd",
   "execution_count": 4
  },
  {
   "cell_type": "code",
   "outputs": [],
   "source": [
    "g =  tmp.groupby('frame')\n",
    "for name, group in g:\n",
    "    group.drop(columns='frame').to_csv(f\"../NAPLab-LiDAR/new_labels/{name}\", sep=' ', header=None, index=False)"
   ],
   "metadata": {
    "collapsed": false,
    "ExecuteTime": {
     "end_time": "2024-05-01T18:38:51.601590300Z",
     "start_time": "2024-05-01T18:38:49.677213800Z"
    }
   },
   "id": "ac26d76f67fbc097",
   "execution_count": 5
  },
  {
   "cell_type": "code",
   "outputs": [],
   "source": [],
   "metadata": {
    "collapsed": false
   },
   "id": "8f7be283679b1921"
  }
 ],
 "metadata": {
  "kernelspec": {
   "display_name": "Python 3",
   "language": "python",
   "name": "python3"
  },
  "language_info": {
   "codemirror_mode": {
    "name": "ipython",
    "version": 2
   },
   "file_extension": ".py",
   "mimetype": "text/x-python",
   "name": "python",
   "nbconvert_exporter": "python",
   "pygments_lexer": "ipython2",
   "version": "2.7.6"
  }
 },
 "nbformat": 4,
 "nbformat_minor": 5
}
