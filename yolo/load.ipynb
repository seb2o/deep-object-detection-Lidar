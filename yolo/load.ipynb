{
 "cells": [
  {
   "cell_type": "raw",
   "source": [],
   "metadata": {
    "collapsed": false
   },
   "id": "63058c5f5b337fed"
  },
  {
   "cell_type": "code",
   "execution_count": null,
   "id": "70769bdaf5317994",
   "metadata": {
    "collapsed": false
   },
   "outputs": [],
   "source": [
    "from ultralytics import YOLO, checks\n",
    "import torch"
   ]
  },
  {
   "cell_type": "code",
   "outputs": [],
   "source": [
    "torch.cuda.is_available()"
   ],
   "metadata": {
    "collapsed": false
   },
   "id": "ef2080548e1d688d",
   "execution_count": null
  },
  {
   "cell_type": "code",
   "outputs": [],
   "source": [
    "checks()"
   ],
   "metadata": {
    "collapsed": false
   },
   "id": "7504768c64e3bee1",
   "execution_count": null
  },
  {
   "cell_type": "code",
   "outputs": [],
   "source": [
    "model_tuned = YOLO(\"yolov8s.pt\")\n",
    "model_scratch = YOLO('yolov8s.yaml')\n",
    "\n",
    "model_tuned.to(\"cuda\")\n",
    "model_scratch.to(\"cuda\")"
   ],
   "metadata": {
    "collapsed": false
   },
   "id": "c7379ee63488df91",
   "execution_count": null
  },
  {
   "cell_type": "code",
   "outputs": [],
   "source": [
    "model_scratch.train(\n",
    "    data='../NAPLab-LiDAR/data.yaml' ,\n",
    "    time=.1,\n",
    "    patience=3,\n",
    "    batch=-1,\n",
    "    imgsz=1024,\n",
    "    rect=True,\n",
    "    save_period=10,\n",
    "    cache='ram',\n",
    "    device=0,\n",
    "    project='scratch_exp_1',\n",
    "    pretrained=False,\n",
    "    deterministic=False,\n",
    "    plots=True,\n",
    "    hsv_h=0,\n",
    "    mosaic=False,\n",
    "    copy_paste=0.5\n",
    ")"
   ],
   "metadata": {
    "collapsed": true
   },
   "id": "initial_id",
   "execution_count": null
  },
  {
   "cell_type": "code",
   "outputs": [],
   "source": [
    "model_tuned.train(\n",
    "    data='../NAPLab-LiDAR/data.yaml' ,\n",
    "    time=.1,\n",
    "    patience=3,\n",
    "    batch=-1,\n",
    "    imgsz=1024,\n",
    "    rect=True,\n",
    "    save_period=10,\n",
    "    cache='ram',\n",
    "    device=0,\n",
    "    project='tuned_exp_2',\n",
    "    pretrained=False,\n",
    "    deterministic=False,\n",
    "    plots=True,\n",
    "    hsv_h=0,\n",
    "    mosaic=False,\n",
    "    copy_paste=0.5\n",
    ")"
   ],
   "metadata": {
    "collapsed": false
   },
   "id": "442be40f08a35b7f",
   "execution_count": null
  },
  {
   "cell_type": "code",
   "outputs": [],
   "source": [
    "model_tuned_metrics = model_tuned.val(data=\"../NAPLab-LiDAR/test.yaml\")\n",
    "model_tuned_metrics"
   ],
   "metadata": {
    "collapsed": false,
    "is_executing": true
   },
   "id": "c5e5508546a95c16",
   "execution_count": null
  },
  {
   "cell_type": "code",
   "outputs": [],
   "source": [
    "model_scratch_metrics = model_scratch.val(data=\"../NAPLab-LiDAR/test.yaml\")\n",
    "model_scratch_metrics"
   ],
   "metadata": {
    "collapsed": false,
    "is_executing": true
   },
   "id": "1ee1d8d3be3e75bb",
   "execution_count": null
  },
  {
   "cell_type": "code",
   "outputs": [],
   "source": [],
   "metadata": {
    "collapsed": false
   },
   "id": "3480971fd1ca37c6"
  }
 ],
 "metadata": {
  "kernelspec": {
   "name": "venv",
   "language": "python",
   "display_name": "Python (whatever you want to call it)"
  },
  "language_info": {
   "codemirror_mode": {
    "name": "ipython",
    "version": 2
   },
   "file_extension": ".py",
   "mimetype": "text/x-python",
   "name": "python",
   "nbconvert_exporter": "python",
   "pygments_lexer": "ipython2",
   "version": "2.7.6"
  }
 },
 "nbformat": 4,
 "nbformat_minor": 5
}
