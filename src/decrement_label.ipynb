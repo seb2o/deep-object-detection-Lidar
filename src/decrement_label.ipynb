{
 "cells": [
  {
   "cell_type": "code",
   "execution_count": 42,
   "id": "initial_id",
   "metadata": {
    "collapsed": true,
    "ExecuteTime": {
     "end_time": "2024-04-30T14:43:33.710642Z",
     "start_time": "2024-04-30T14:43:33.704939100Z"
    }
   },
   "outputs": [],
   "source": [
    "import os\n",
    "\n",
    "import matplotlib.pyplot as plt\n",
    "import numpy as np\n",
    "import pandas as pd"
   ]
  },
  {
   "cell_type": "code",
   "outputs": [
    {
     "data": {
      "text/plain": "0        0\n1        0\n2        0\n3        6\n4        6\n        ..\n23564    6\n23565    6\n23566    6\n23567    6\n23568    6\nName: classID, Length: 23569, dtype: int64"
     },
     "execution_count": 47,
     "metadata": {},
     "output_type": "execute_result"
    }
   ],
   "source": [
    "files = os.listdir('../NAPLab-LiDAR/old_labels/')\n",
    "col_labels = ['classID', 'x', 'y', 'width', 'height']\n",
    "dataset_boxes : pd.DataFrame = pd.concat([\n",
    "    pd.read_csv(\n",
    "        f\"../NAPLab-LiDAR/old_labels/{filename}\",\n",
    "        sep=' ',\n",
    "        names=col_labels)\n",
    "    .reindex(['frame', *col_labels], axis='columns')\n",
    "    .assign(frame=filename)\n",
    "    for filename in files\n",
    "], ignore_index=True)\n",
    "dataset_boxes.classID"
   ],
   "metadata": {
    "collapsed": false,
    "ExecuteTime": {
     "end_time": "2024-04-30T14:45:45.516732700Z",
     "start_time": "2024-04-30T14:45:43.137396100Z"
    }
   },
   "id": "1e22507b0fe6e12e",
   "execution_count": 47
  },
  {
   "cell_type": "code",
   "outputs": [],
   "source": [],
   "metadata": {
    "collapsed": false,
    "ExecuteTime": {
     "end_time": "2024-04-30T14:43:36.121765800Z",
     "start_time": "2024-04-30T14:43:36.119243700Z"
    }
   },
   "id": "ada4df26cace4f84",
   "execution_count": 43
  },
  {
   "cell_type": "code",
   "outputs": [],
   "source": [
    "tmp = dataset_boxes.copy(deep=True)\n",
    "tmp['classID'] = dataset_boxes['classID'].apply(lambda c: c if c < 3 else c-1 )"
   ],
   "metadata": {
    "collapsed": false,
    "ExecuteTime": {
     "end_time": "2024-04-30T14:45:50.226922300Z",
     "start_time": "2024-04-30T14:45:50.217151300Z"
    }
   },
   "id": "85d4b229de02b86",
   "execution_count": 48
  },
  {
   "cell_type": "code",
   "outputs": [
    {
     "data": {
      "text/plain": "classID\n-1    12013\n 0    11556\nName: count, dtype: int64"
     },
     "execution_count": 49,
     "metadata": {},
     "output_type": "execute_result"
    }
   ],
   "source": [
    "(tmp.classID - dataset_boxes.classID).value_counts() "
   ],
   "metadata": {
    "collapsed": false,
    "ExecuteTime": {
     "end_time": "2024-04-30T14:45:52.609145300Z",
     "start_time": "2024-04-30T14:45:52.601348800Z"
    }
   },
   "id": "c24845b944a72ddd",
   "execution_count": 49
  },
  {
   "cell_type": "code",
   "outputs": [],
   "source": [
    "g =  tmp.groupby('frame')\n",
    "for name, group in g:\n",
    "    group.drop(columns='frame').to_csv(f\"../NAPLab-LiDAR/new_labels/{name}\", sep=' ', header=None, index=False)"
   ],
   "metadata": {
    "collapsed": false,
    "ExecuteTime": {
     "end_time": "2024-04-30T14:47:16.113233600Z",
     "start_time": "2024-04-30T14:47:14.321841600Z"
    }
   },
   "id": "ac26d76f67fbc097",
   "execution_count": 53
  }
 ],
 "metadata": {
  "kernelspec": {
   "display_name": "Python 3",
   "language": "python",
   "name": "python3"
  },
  "language_info": {
   "codemirror_mode": {
    "name": "ipython",
    "version": 2
   },
   "file_extension": ".py",
   "mimetype": "text/x-python",
   "name": "python",
   "nbconvert_exporter": "python",
   "pygments_lexer": "ipython2",
   "version": "2.7.6"
  }
 },
 "nbformat": 4,
 "nbformat_minor": 5
}
