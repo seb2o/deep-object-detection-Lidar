{
 "cells": [
  {
   "cell_type": "code",
   "execution_count": 73,
   "id": "initial_id",
   "metadata": {
    "collapsed": true,
    "ExecuteTime": {
     "end_time": "2024-04-30T15:35:28.400294700Z",
     "start_time": "2024-04-30T15:35:28.333766300Z"
    }
   },
   "outputs": [],
   "source": [
    "import shutil\n",
    "import os\n",
    "import numpy as np"
   ]
  },
  {
   "cell_type": "code",
   "outputs": [],
   "source": [
    "root_path = \"C:\\\\Users\\menbu\\PycharmProjects\\dlProject\\\\NAPLab-LiDAR\""
   ],
   "metadata": {
    "collapsed": false,
    "ExecuteTime": {
     "end_time": "2024-04-30T15:35:28.402563500Z",
     "start_time": "2024-04-30T15:35:28.341780Z"
    }
   },
   "id": "e88300de077da672",
   "execution_count": 74
  },
  {
   "cell_type": "code",
   "outputs": [],
   "source": [
    "img_names = os.listdir(f\"{root_path}/images\")\n",
    "txt_names = os.listdir(f\"{root_path}/labels\")\n",
    "g = np.array(list(zip(img_names, txt_names)))"
   ],
   "metadata": {
    "collapsed": false,
    "ExecuteTime": {
     "end_time": "2024-04-30T15:35:28.433925100Z",
     "start_time": "2024-04-30T15:35:28.353537400Z"
    }
   },
   "id": "4b93072585ae5b43",
   "execution_count": 75
  },
  {
   "cell_type": "code",
   "outputs": [
    {
     "data": {
      "text/plain": "array([['frame_000000.PNG', 'frame_000000.txt'],\n       ['frame_000001.PNG', 'frame_000001.txt'],\n       ['frame_000002.PNG', 'frame_000002.txt'],\n       ...,\n       ['frame_001902.PNG', 'frame_001902.txt'],\n       ['frame_001903.PNG', 'frame_001903.txt'],\n       ['frame_001904.PNG', 'frame_001904.txt']], dtype='<U16')"
     },
     "execution_count": 76,
     "metadata": {},
     "output_type": "execute_result"
    }
   ],
   "source": [
    "g"
   ],
   "metadata": {
    "collapsed": false,
    "ExecuteTime": {
     "end_time": "2024-04-30T15:35:28.434963600Z",
     "start_time": "2024-04-30T15:35:28.379534900Z"
    }
   },
   "id": "e49d10b026f7cc06",
   "execution_count": 76
  },
  {
   "cell_type": "code",
   "outputs": [],
   "source": [
    "np.random.shuffle(g)\n",
    "train = g[:1800]\n",
    "val = g[1800:]"
   ],
   "metadata": {
    "collapsed": false,
    "ExecuteTime": {
     "end_time": "2024-04-30T15:35:28.434963600Z",
     "start_time": "2024-04-30T15:35:28.394358200Z"
    }
   },
   "id": "2fcf4646ed294141",
   "execution_count": 77
  },
  {
   "cell_type": "code",
   "outputs": [
    {
     "data": {
      "text/plain": "array([['frame_000455.PNG', 'frame_000455.txt'],\n       ['frame_001584.PNG', 'frame_001584.txt'],\n       ['frame_001902.PNG', 'frame_001902.txt'],\n       ...,\n       ['frame_001616.PNG', 'frame_001616.txt'],\n       ['frame_000193.PNG', 'frame_000193.txt'],\n       ['frame_001803.PNG', 'frame_001803.txt']], dtype='<U16')"
     },
     "execution_count": 78,
     "metadata": {},
     "output_type": "execute_result"
    }
   ],
   "source": [
    "train"
   ],
   "metadata": {
    "collapsed": false,
    "ExecuteTime": {
     "end_time": "2024-04-30T15:35:28.437126300Z",
     "start_time": "2024-04-30T15:35:28.401542100Z"
    }
   },
   "id": "c31f75ae2b3a1e28",
   "execution_count": 78
  },
  {
   "cell_type": "code",
   "outputs": [
    {
     "data": {
      "text/plain": "array([['frame_001250.PNG', 'frame_001250.txt'],\n       ['frame_000814.PNG', 'frame_000814.txt'],\n       ['frame_001314.PNG', 'frame_001314.txt'],\n       ['frame_000369.PNG', 'frame_000369.txt'],\n       ['frame_000140.PNG', 'frame_000140.txt'],\n       ['frame_001146.PNG', 'frame_001146.txt'],\n       ['frame_001689.PNG', 'frame_001689.txt'],\n       ['frame_001750.PNG', 'frame_001750.txt'],\n       ['frame_000490.PNG', 'frame_000490.txt'],\n       ['frame_001524.PNG', 'frame_001524.txt'],\n       ['frame_001217.PNG', 'frame_001217.txt'],\n       ['frame_000516.PNG', 'frame_000516.txt'],\n       ['frame_000709.PNG', 'frame_000709.txt'],\n       ['frame_001275.PNG', 'frame_001275.txt'],\n       ['frame_001283.PNG', 'frame_001283.txt'],\n       ['frame_000704.PNG', 'frame_000704.txt'],\n       ['frame_000177.PNG', 'frame_000177.txt'],\n       ['frame_000597.PNG', 'frame_000597.txt'],\n       ['frame_000578.PNG', 'frame_000578.txt'],\n       ['frame_000861.PNG', 'frame_000861.txt'],\n       ['frame_000262.PNG', 'frame_000262.txt'],\n       ['frame_000892.PNG', 'frame_000892.txt'],\n       ['frame_001660.PNG', 'frame_001660.txt'],\n       ['frame_001300.PNG', 'frame_001300.txt'],\n       ['frame_001265.PNG', 'frame_001265.txt'],\n       ['frame_001641.PNG', 'frame_001641.txt'],\n       ['frame_000227.PNG', 'frame_000227.txt'],\n       ['frame_000537.PNG', 'frame_000537.txt'],\n       ['frame_000821.PNG', 'frame_000821.txt'],\n       ['frame_001123.PNG', 'frame_001123.txt'],\n       ['frame_000662.PNG', 'frame_000662.txt'],\n       ['frame_000763.PNG', 'frame_000763.txt'],\n       ['frame_000212.PNG', 'frame_000212.txt'],\n       ['frame_001458.PNG', 'frame_001458.txt'],\n       ['frame_001201.PNG', 'frame_001201.txt'],\n       ['frame_001865.PNG', 'frame_001865.txt'],\n       ['frame_001065.PNG', 'frame_001065.txt'],\n       ['frame_000089.PNG', 'frame_000089.txt'],\n       ['frame_000330.PNG', 'frame_000330.txt'],\n       ['frame_000679.PNG', 'frame_000679.txt'],\n       ['frame_000450.PNG', 'frame_000450.txt'],\n       ['frame_000587.PNG', 'frame_000587.txt'],\n       ['frame_001555.PNG', 'frame_001555.txt'],\n       ['frame_001734.PNG', 'frame_001734.txt'],\n       ['frame_000825.PNG', 'frame_000825.txt'],\n       ['frame_000073.PNG', 'frame_000073.txt'],\n       ['frame_001143.PNG', 'frame_001143.txt'],\n       ['frame_001263.PNG', 'frame_001263.txt'],\n       ['frame_000479.PNG', 'frame_000479.txt'],\n       ['frame_000839.PNG', 'frame_000839.txt'],\n       ['frame_001325.PNG', 'frame_001325.txt'],\n       ['frame_001640.PNG', 'frame_001640.txt'],\n       ['frame_001606.PNG', 'frame_001606.txt'],\n       ['frame_001526.PNG', 'frame_001526.txt'],\n       ['frame_000125.PNG', 'frame_000125.txt'],\n       ['frame_000887.PNG', 'frame_000887.txt'],\n       ['frame_000315.PNG', 'frame_000315.txt'],\n       ['frame_001804.PNG', 'frame_001804.txt'],\n       ['frame_001671.PNG', 'frame_001671.txt'],\n       ['frame_000522.PNG', 'frame_000522.txt'],\n       ['frame_000508.PNG', 'frame_000508.txt'],\n       ['frame_001863.PNG', 'frame_001863.txt'],\n       ['frame_001749.PNG', 'frame_001749.txt'],\n       ['frame_000135.PNG', 'frame_000135.txt'],\n       ['frame_001766.PNG', 'frame_001766.txt'],\n       ['frame_001439.PNG', 'frame_001439.txt'],\n       ['frame_000758.PNG', 'frame_000758.txt'],\n       ['frame_001125.PNG', 'frame_001125.txt'],\n       ['frame_000773.PNG', 'frame_000773.txt'],\n       ['frame_000740.PNG', 'frame_000740.txt'],\n       ['frame_000698.PNG', 'frame_000698.txt'],\n       ['frame_001068.PNG', 'frame_001068.txt'],\n       ['frame_001044.PNG', 'frame_001044.txt'],\n       ['frame_001733.PNG', 'frame_001733.txt'],\n       ['frame_001242.PNG', 'frame_001242.txt'],\n       ['frame_001086.PNG', 'frame_001086.txt'],\n       ['frame_000379.PNG', 'frame_000379.txt'],\n       ['frame_000297.PNG', 'frame_000297.txt'],\n       ['frame_000244.PNG', 'frame_000244.txt'],\n       ['frame_000474.PNG', 'frame_000474.txt'],\n       ['frame_001774.PNG', 'frame_001774.txt'],\n       ['frame_000739.PNG', 'frame_000739.txt'],\n       ['frame_001553.PNG', 'frame_001553.txt'],\n       ['frame_001178.PNG', 'frame_001178.txt'],\n       ['frame_001763.PNG', 'frame_001763.txt'],\n       ['frame_001216.PNG', 'frame_001216.txt'],\n       ['frame_001588.PNG', 'frame_001588.txt'],\n       ['frame_000475.PNG', 'frame_000475.txt'],\n       ['frame_001504.PNG', 'frame_001504.txt'],\n       ['frame_001276.PNG', 'frame_001276.txt'],\n       ['frame_000935.PNG', 'frame_000935.txt'],\n       ['frame_001846.PNG', 'frame_001846.txt'],\n       ['frame_001080.PNG', 'frame_001080.txt'],\n       ['frame_001138.PNG', 'frame_001138.txt'],\n       ['frame_001529.PNG', 'frame_001529.txt'],\n       ['frame_001723.PNG', 'frame_001723.txt'],\n       ['frame_000555.PNG', 'frame_000555.txt'],\n       ['frame_000756.PNG', 'frame_000756.txt'],\n       ['frame_000576.PNG', 'frame_000576.txt'],\n       ['frame_000615.PNG', 'frame_000615.txt'],\n       ['frame_001437.PNG', 'frame_001437.txt'],\n       ['frame_001682.PNG', 'frame_001682.txt'],\n       ['frame_000521.PNG', 'frame_000521.txt'],\n       ['frame_001293.PNG', 'frame_001293.txt'],\n       ['frame_001112.PNG', 'frame_001112.txt']], dtype='<U16')"
     },
     "execution_count": 79,
     "metadata": {},
     "output_type": "execute_result"
    }
   ],
   "source": [
    "val"
   ],
   "metadata": {
    "collapsed": false,
    "ExecuteTime": {
     "end_time": "2024-04-30T15:35:28.438121300Z",
     "start_time": "2024-04-30T15:35:28.415822Z"
    }
   },
   "id": "6754a3beb851cc44",
   "execution_count": 79
  },
  {
   "cell_type": "code",
   "outputs": [],
   "source": [
    "for row in train:\n",
    "    shutil.copy(f\"{root_path}/images/{row[0]}\",f\"{root_path}/splitted/image/train/{row[0]}\")\n",
    "    shutil.copy(f\"{root_path}/labels/{row[1]}\",f\"{root_path}/splitted/labels/train/{row[1]}\")"
   ],
   "metadata": {
    "collapsed": false,
    "ExecuteTime": {
     "end_time": "2024-04-30T15:40:41.808977700Z",
     "start_time": "2024-04-30T15:40:35.604051100Z"
    }
   },
   "id": "e7a524b35e5d9425",
   "execution_count": 81
  },
  {
   "cell_type": "code",
   "outputs": [],
   "source": [
    "for row in val:\n",
    "    shutil.copy(f\"{root_path}/images/{row[0]}\",f\"{root_path}/splitted/image/val/{row[0]}\")\n",
    "    shutil.copy(f\"{root_path}/labels/{row[1]}\",f\"{root_path}/splitted/labels/val/{row[1]}\")"
   ],
   "metadata": {
    "collapsed": false,
    "ExecuteTime": {
     "end_time": "2024-04-30T15:40:42.298138600Z",
     "start_time": "2024-04-30T15:40:41.813073500Z"
    }
   },
   "id": "40260b2526b4217d",
   "execution_count": 82
  }
 ],
 "metadata": {
  "kernelspec": {
   "display_name": "Python 3",
   "language": "python",
   "name": "python3"
  },
  "language_info": {
   "codemirror_mode": {
    "name": "ipython",
    "version": 2
   },
   "file_extension": ".py",
   "mimetype": "text/x-python",
   "name": "python",
   "nbconvert_exporter": "python",
   "pygments_lexer": "ipython2",
   "version": "2.7.6"
  }
 },
 "nbformat": 4,
 "nbformat_minor": 5
}
