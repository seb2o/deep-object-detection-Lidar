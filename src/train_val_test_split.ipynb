{
 "cells": [
  {
   "cell_type": "code",
   "execution_count": 20,
   "id": "initial_id",
   "metadata": {
    "ExecuteTime": {
     "end_time": "2024-04-30T15:35:28.400294700Z",
     "start_time": "2024-04-30T15:35:28.333766300Z"
    },
    "collapsed": true
   },
   "outputs": [],
   "source": [
    "import shutil\n",
    "import os\n",
    "import numpy as np\n",
    "import pathlib"
   ]
  },
  {
   "cell_type": "code",
   "execution_count": 21,
   "id": "28f9eccf",
   "metadata": {},
   "outputs": [],
   "source": [
    "file_location = \"../NAPLab-LiDAR\"\n",
    "image_path = os.path.join(file_location, \"images\")\n",
    "old_label_path = os.path.join(file_location, \"old_labels\")\n",
    "new_label_path = os.path.join(file_location, \"new_labels\")\n",
    "label_path = new_label_path\n",
    "split_path = os.path.join(file_location, \"splitted\")"
   ]
  },
  {
   "cell_type": "code",
   "execution_count": 22,
   "id": "4b93072585ae5b43",
   "metadata": {
    "ExecuteTime": {
     "end_time": "2024-04-30T15:35:28.433925100Z",
     "start_time": "2024-04-30T15:35:28.353537400Z"
    },
    "collapsed": false
   },
   "outputs": [],
   "source": [
    "img_names = os.listdir(image_path)\n",
    "txt_names = os.listdir(label_path)\n",
    "ge = np.array(list(zip(img_names, txt_names)))"
   ]
  },
  {
   "cell_type": "code",
   "execution_count": 30,
   "id": "051b76a9",
   "metadata": {},
   "outputs": [
    {
     "data": {
      "text/plain": [
       "1704"
      ]
     },
     "execution_count": 30,
     "metadata": {},
     "output_type": "execute_result"
    }
   ],
   "source": [
    "# 19 total scenes\n",
    "# good val segment: 000302 - 000402\n",
    "# okayish test segment 001505 - 001604\n",
    "# 101 images\n",
    "val = ge[302:403]\n",
    "test = ge[1505:1605]\n",
    "g = np.concatenate((ge[:302], ge[403:1505], ge[1605:]))\n",
    "len(g)"
   ]
  },
  {
   "cell_type": "code",
   "execution_count": 31,
   "id": "2fcf4646ed294141",
   "metadata": {
    "ExecuteTime": {
     "end_time": "2024-04-30T15:35:28.434963600Z",
     "start_time": "2024-04-30T15:35:28.394358200Z"
    },
    "collapsed": false
   },
   "outputs": [
    {
     "data": {
      "text/plain": [
       "1620"
      ]
     },
     "execution_count": 31,
     "metadata": {},
     "output_type": "execute_result"
    }
   ],
   "source": [
    "\n",
    "# get 44 extra random pictures\n",
    "np.random.shuffle(g)\n",
    "train = g[:-84]\n",
    "val = np.concatenate((val, g[-44:]))\n",
    "test = np.concatenate((test, g[-84:-44]))\n",
    "len(train)"
   ]
  },
  {
   "cell_type": "code",
   "execution_count": 25,
   "id": "c31f75ae2b3a1e28",
   "metadata": {
    "ExecuteTime": {
     "end_time": "2024-04-30T15:35:28.437126300Z",
     "start_time": "2024-04-30T15:35:28.401542100Z"
    },
    "collapsed": false
   },
   "outputs": [
    {
     "data": {
      "text/plain": [
       "array([['frame_000418.PNG', 'frame_000418.txt'],\n",
       "       ['frame_000199.PNG', 'frame_000199.txt'],\n",
       "       ['frame_000959.PNG', 'frame_000959.txt'],\n",
       "       ...,\n",
       "       ['frame_001553.PNG', 'frame_001553.txt'],\n",
       "       ['frame_000591.PNG', 'frame_000591.txt'],\n",
       "       ['frame_000293.PNG', 'frame_000293.txt']], dtype='<U16')"
      ]
     },
     "execution_count": 25,
     "metadata": {},
     "output_type": "execute_result"
    }
   ],
   "source": [
    "train"
   ]
  },
  {
   "cell_type": "code",
   "execution_count": 26,
   "id": "6754a3beb851cc44",
   "metadata": {
    "ExecuteTime": {
     "end_time": "2024-04-30T15:35:28.438121300Z",
     "start_time": "2024-04-30T15:35:28.415822Z"
    },
    "collapsed": false
   },
   "outputs": [
    {
     "data": {
      "text/plain": [
       "array([['frame_000302.PNG', 'frame_000302.txt'],\n",
       "       ['frame_000303.PNG', 'frame_000303.txt'],\n",
       "       ['frame_000304.PNG', 'frame_000304.txt'],\n",
       "       ['frame_000305.PNG', 'frame_000305.txt'],\n",
       "       ['frame_000306.PNG', 'frame_000306.txt'],\n",
       "       ['frame_000307.PNG', 'frame_000307.txt'],\n",
       "       ['frame_000308.PNG', 'frame_000308.txt'],\n",
       "       ['frame_000309.PNG', 'frame_000309.txt'],\n",
       "       ['frame_000310.PNG', 'frame_000310.txt'],\n",
       "       ['frame_000311.PNG', 'frame_000311.txt'],\n",
       "       ['frame_000312.PNG', 'frame_000312.txt'],\n",
       "       ['frame_000313.PNG', 'frame_000313.txt'],\n",
       "       ['frame_000314.PNG', 'frame_000314.txt'],\n",
       "       ['frame_000315.PNG', 'frame_000315.txt'],\n",
       "       ['frame_000316.PNG', 'frame_000316.txt'],\n",
       "       ['frame_000317.PNG', 'frame_000317.txt'],\n",
       "       ['frame_000318.PNG', 'frame_000318.txt'],\n",
       "       ['frame_000319.PNG', 'frame_000319.txt'],\n",
       "       ['frame_000320.PNG', 'frame_000320.txt'],\n",
       "       ['frame_000321.PNG', 'frame_000321.txt'],\n",
       "       ['frame_000322.PNG', 'frame_000322.txt'],\n",
       "       ['frame_000323.PNG', 'frame_000323.txt'],\n",
       "       ['frame_000324.PNG', 'frame_000324.txt'],\n",
       "       ['frame_000325.PNG', 'frame_000325.txt'],\n",
       "       ['frame_000326.PNG', 'frame_000326.txt'],\n",
       "       ['frame_000327.PNG', 'frame_000327.txt'],\n",
       "       ['frame_000328.PNG', 'frame_000328.txt'],\n",
       "       ['frame_000329.PNG', 'frame_000329.txt'],\n",
       "       ['frame_000330.PNG', 'frame_000330.txt'],\n",
       "       ['frame_000331.PNG', 'frame_000331.txt'],\n",
       "       ['frame_000332.PNG', 'frame_000332.txt'],\n",
       "       ['frame_000333.PNG', 'frame_000333.txt'],\n",
       "       ['frame_000334.PNG', 'frame_000334.txt'],\n",
       "       ['frame_000335.PNG', 'frame_000335.txt'],\n",
       "       ['frame_000336.PNG', 'frame_000336.txt'],\n",
       "       ['frame_000337.PNG', 'frame_000337.txt'],\n",
       "       ['frame_000338.PNG', 'frame_000338.txt'],\n",
       "       ['frame_000339.PNG', 'frame_000339.txt'],\n",
       "       ['frame_000340.PNG', 'frame_000340.txt'],\n",
       "       ['frame_000341.PNG', 'frame_000341.txt'],\n",
       "       ['frame_000342.PNG', 'frame_000342.txt'],\n",
       "       ['frame_000343.PNG', 'frame_000343.txt'],\n",
       "       ['frame_000344.PNG', 'frame_000344.txt'],\n",
       "       ['frame_000345.PNG', 'frame_000345.txt'],\n",
       "       ['frame_000346.PNG', 'frame_000346.txt'],\n",
       "       ['frame_000347.PNG', 'frame_000347.txt'],\n",
       "       ['frame_000348.PNG', 'frame_000348.txt'],\n",
       "       ['frame_000349.PNG', 'frame_000349.txt'],\n",
       "       ['frame_000350.PNG', 'frame_000350.txt'],\n",
       "       ['frame_000351.PNG', 'frame_000351.txt'],\n",
       "       ['frame_000352.PNG', 'frame_000352.txt'],\n",
       "       ['frame_000353.PNG', 'frame_000353.txt'],\n",
       "       ['frame_000354.PNG', 'frame_000354.txt'],\n",
       "       ['frame_000355.PNG', 'frame_000355.txt'],\n",
       "       ['frame_000356.PNG', 'frame_000356.txt'],\n",
       "       ['frame_000357.PNG', 'frame_000357.txt'],\n",
       "       ['frame_000358.PNG', 'frame_000358.txt'],\n",
       "       ['frame_000359.PNG', 'frame_000359.txt'],\n",
       "       ['frame_000360.PNG', 'frame_000360.txt'],\n",
       "       ['frame_000361.PNG', 'frame_000361.txt'],\n",
       "       ['frame_000362.PNG', 'frame_000362.txt'],\n",
       "       ['frame_000363.PNG', 'frame_000363.txt'],\n",
       "       ['frame_000364.PNG', 'frame_000364.txt'],\n",
       "       ['frame_000365.PNG', 'frame_000365.txt'],\n",
       "       ['frame_000366.PNG', 'frame_000366.txt'],\n",
       "       ['frame_000367.PNG', 'frame_000367.txt'],\n",
       "       ['frame_000368.PNG', 'frame_000368.txt'],\n",
       "       ['frame_000369.PNG', 'frame_000369.txt'],\n",
       "       ['frame_000370.PNG', 'frame_000370.txt'],\n",
       "       ['frame_000371.PNG', 'frame_000371.txt'],\n",
       "       ['frame_000372.PNG', 'frame_000372.txt'],\n",
       "       ['frame_000373.PNG', 'frame_000373.txt'],\n",
       "       ['frame_000374.PNG', 'frame_000374.txt'],\n",
       "       ['frame_000375.PNG', 'frame_000375.txt'],\n",
       "       ['frame_000376.PNG', 'frame_000376.txt'],\n",
       "       ['frame_000377.PNG', 'frame_000377.txt'],\n",
       "       ['frame_000378.PNG', 'frame_000378.txt'],\n",
       "       ['frame_000379.PNG', 'frame_000379.txt'],\n",
       "       ['frame_000380.PNG', 'frame_000380.txt'],\n",
       "       ['frame_000381.PNG', 'frame_000381.txt'],\n",
       "       ['frame_000382.PNG', 'frame_000382.txt'],\n",
       "       ['frame_000383.PNG', 'frame_000383.txt'],\n",
       "       ['frame_000384.PNG', 'frame_000384.txt'],\n",
       "       ['frame_000385.PNG', 'frame_000385.txt'],\n",
       "       ['frame_000386.PNG', 'frame_000386.txt'],\n",
       "       ['frame_000387.PNG', 'frame_000387.txt'],\n",
       "       ['frame_000388.PNG', 'frame_000388.txt'],\n",
       "       ['frame_000389.PNG', 'frame_000389.txt'],\n",
       "       ['frame_000390.PNG', 'frame_000390.txt'],\n",
       "       ['frame_000391.PNG', 'frame_000391.txt'],\n",
       "       ['frame_000392.PNG', 'frame_000392.txt'],\n",
       "       ['frame_000393.PNG', 'frame_000393.txt'],\n",
       "       ['frame_000394.PNG', 'frame_000394.txt'],\n",
       "       ['frame_000395.PNG', 'frame_000395.txt'],\n",
       "       ['frame_000396.PNG', 'frame_000396.txt'],\n",
       "       ['frame_000397.PNG', 'frame_000397.txt'],\n",
       "       ['frame_000398.PNG', 'frame_000398.txt'],\n",
       "       ['frame_000399.PNG', 'frame_000399.txt'],\n",
       "       ['frame_000400.PNG', 'frame_000400.txt'],\n",
       "       ['frame_000401.PNG', 'frame_000401.txt'],\n",
       "       ['frame_000402.PNG', 'frame_000402.txt'],\n",
       "       ['frame_001542.PNG', 'frame_001542.txt'],\n",
       "       ['frame_000264.PNG', 'frame_000264.txt'],\n",
       "       ['frame_000823.PNG', 'frame_000823.txt'],\n",
       "       ['frame_000516.PNG', 'frame_000516.txt'],\n",
       "       ['frame_001430.PNG', 'frame_001430.txt'],\n",
       "       ['frame_000931.PNG', 'frame_000931.txt'],\n",
       "       ['frame_001582.PNG', 'frame_001582.txt'],\n",
       "       ['frame_000841.PNG', 'frame_000841.txt'],\n",
       "       ['frame_001221.PNG', 'frame_001221.txt'],\n",
       "       ['frame_000236.PNG', 'frame_000236.txt'],\n",
       "       ['frame_001730.PNG', 'frame_001730.txt'],\n",
       "       ['frame_001604.PNG', 'frame_001604.txt'],\n",
       "       ['frame_001896.PNG', 'frame_001896.txt'],\n",
       "       ['frame_000046.PNG', 'frame_000046.txt'],\n",
       "       ['frame_000604.PNG', 'frame_000604.txt'],\n",
       "       ['frame_001860.PNG', 'frame_001860.txt'],\n",
       "       ['frame_001261.PNG', 'frame_001261.txt'],\n",
       "       ['frame_000586.PNG', 'frame_000586.txt'],\n",
       "       ['frame_000280.PNG', 'frame_000280.txt'],\n",
       "       ['frame_000651.PNG', 'frame_000651.txt'],\n",
       "       ['frame_001398.PNG', 'frame_001398.txt'],\n",
       "       ['frame_000214.PNG', 'frame_000214.txt'],\n",
       "       ['frame_001636.PNG', 'frame_001636.txt'],\n",
       "       ['frame_001770.PNG', 'frame_001770.txt'],\n",
       "       ['frame_001630.PNG', 'frame_001630.txt'],\n",
       "       ['frame_001201.PNG', 'frame_001201.txt'],\n",
       "       ['frame_001724.PNG', 'frame_001724.txt'],\n",
       "       ['frame_001120.PNG', 'frame_001120.txt'],\n",
       "       ['frame_000065.PNG', 'frame_000065.txt'],\n",
       "       ['frame_000212.PNG', 'frame_000212.txt'],\n",
       "       ['frame_001705.PNG', 'frame_001705.txt'],\n",
       "       ['frame_000629.PNG', 'frame_000629.txt'],\n",
       "       ['frame_000441.PNG', 'frame_000441.txt'],\n",
       "       ['frame_001713.PNG', 'frame_001713.txt'],\n",
       "       ['frame_001563.PNG', 'frame_001563.txt'],\n",
       "       ['frame_000084.PNG', 'frame_000084.txt'],\n",
       "       ['frame_001760.PNG', 'frame_001760.txt'],\n",
       "       ['frame_001370.PNG', 'frame_001370.txt'],\n",
       "       ['frame_000296.PNG', 'frame_000296.txt'],\n",
       "       ['frame_001169.PNG', 'frame_001169.txt'],\n",
       "       ['frame_001445.PNG', 'frame_001445.txt'],\n",
       "       ['frame_001846.PNG', 'frame_001846.txt'],\n",
       "       ['frame_001080.PNG', 'frame_001080.txt'],\n",
       "       ['frame_000758.PNG', 'frame_000758.txt']], dtype='<U16')"
      ]
     },
     "execution_count": 26,
     "metadata": {},
     "output_type": "execute_result"
    }
   ],
   "source": [
    "val"
   ]
  },
  {
   "cell_type": "code",
   "execution_count": 27,
   "id": "0419da8b",
   "metadata": {},
   "outputs": [],
   "source": [
    "# clear the output\n",
    "# splitted\n",
    "# -train\n",
    "# ---images\n",
    "# ---labels\n",
    "# -val\n",
    "# --images\n",
    "# --labels\n",
    "# -test\n",
    "# --images\n",
    "# --labels\n",
    "if os.path.exists(split_path) and os.path.isdir(split_path):\n",
    "    shutil.rmtree(split_path)\n",
    "pathlib.Path(os.path.join(split_path,\"train\",\"images\")).mkdir(exist_ok=True, parents=True)\n",
    "pathlib.Path(os.path.join(split_path,\"train\",\"labels\")).mkdir(exist_ok=True, parents=True)\n",
    "pathlib.Path(os.path.join(split_path,\"val\",\"images\")).mkdir(exist_ok=True, parents=True)\n",
    "pathlib.Path(os.path.join(split_path,\"val\",\"labels\")).mkdir(exist_ok=True, parents=True)\n",
    "pathlib.Path(os.path.join(split_path,\"test\",\"images\")).mkdir(exist_ok=True, parents=True)\n",
    "pathlib.Path(os.path.join(split_path,\"test\",\"labels\")).mkdir(exist_ok=True, parents=True)"
   ]
  },
  {
   "cell_type": "code",
   "execution_count": 28,
   "id": "e7a524b35e5d9425",
   "metadata": {
    "ExecuteTime": {
     "end_time": "2024-04-30T15:40:41.808977700Z",
     "start_time": "2024-04-30T15:40:35.604051100Z"
    },
    "collapsed": false
   },
   "outputs": [],
   "source": [
    "for row in train:\n",
    "    shutil.copy(os.path.join(image_path, row[0]),f\"{file_location}/splitted/train/images/{row[0]}\")\n",
    "    shutil.copy(os.path.join(label_path, row[1]),f\"{file_location}/splitted/train/labels/{row[1]}\")"
   ]
  },
  {
   "cell_type": "code",
   "execution_count": 29,
   "id": "40260b2526b4217d",
   "metadata": {
    "ExecuteTime": {
     "end_time": "2024-04-30T15:40:42.298138600Z",
     "start_time": "2024-04-30T15:40:41.813073500Z"
    },
    "collapsed": false
   },
   "outputs": [],
   "source": [
    "for row in val:\n",
    "    shutil.copy(os.path.join(image_path,row[0]),f\"{file_location}/splitted/val/images/{row[0]}\")\n",
    "    shutil.copy(os.path.join(label_path,row[1]),f\"{file_location}/splitted/val/labels/{row[1]}\")"
   ]
  },
  {
   "cell_type": "code",
   "execution_count": null,
   "id": "24ea438f",
   "metadata": {},
   "outputs": [],
   "source": [
    "for row in test:\n",
    "    shutil.copy(os.path.join(image_path,row[0]),f\"{file_location}/splitted/test/images/{row[0]}\")\n",
    "    shutil.copy(os.path.join(label_path,row[1]),f\"{file_location}/splitted/test/labels/{row[1]}\")"
   ]
  }
 ],
 "metadata": {
  "kernelspec": {
   "display_name": "Python 3",
   "language": "python",
   "name": "python3"
  },
  "language_info": {
   "codemirror_mode": {
    "name": "ipython",
    "version": 3
   },
   "file_extension": ".py",
   "mimetype": "text/x-python",
   "name": "python",
   "nbconvert_exporter": "python",
   "pygments_lexer": "ipython3",
   "version": "3.12.1"
  }
 },
 "nbformat": 4,
 "nbformat_minor": 5
}
