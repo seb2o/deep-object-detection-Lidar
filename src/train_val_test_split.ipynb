{
 "cells": [
  {
   "cell_type": "code",
   "execution_count": 26,
   "id": "initial_id",
   "metadata": {
    "collapsed": true,
    "ExecuteTime": {
     "end_time": "2024-05-01T18:57:09.389164800Z",
     "start_time": "2024-05-01T18:57:09.381619400Z"
    }
   },
   "outputs": [],
   "source": [
    "import shutil\n",
    "import os\n",
    "import numpy as np\n",
    "import pathlib"
   ]
  },
  {
   "cell_type": "code",
   "execution_count": 27,
   "id": "28f9eccf",
   "metadata": {
    "ExecuteTime": {
     "end_time": "2024-05-01T18:57:09.431653300Z",
     "start_time": "2024-05-01T18:57:09.392654100Z"
    }
   },
   "outputs": [],
   "source": [
    "dataset_root_path = \"../NAPLab-LiDAR\"\n",
    "image_path = os.path.join(dataset_root_path, \"images\")\n",
    "old_label_path = os.path.join(dataset_root_path, \"old_labels\")\n",
    "new_label_path = os.path.join(dataset_root_path, \"new_labels\")\n",
    "label_path = new_label_path\n",
    "splitted_path = os.path.join(dataset_root_path, \"splitted\")"
   ]
  },
  {
   "cell_type": "code",
   "execution_count": 28,
   "id": "4b93072585ae5b43",
   "metadata": {
    "collapsed": false,
    "ExecuteTime": {
     "end_time": "2024-05-01T18:57:09.432651700Z",
     "start_time": "2024-05-01T18:57:09.397437400Z"
    }
   },
   "outputs": [],
   "source": [
    "img_names = os.listdir(image_path)\n",
    "txt_names = os.listdir(label_path)\n",
    "ge = np.array(list(zip(img_names, txt_names)))"
   ]
  },
  {
   "cell_type": "code",
   "execution_count": 29,
   "id": "051b76a9",
   "metadata": {
    "ExecuteTime": {
     "end_time": "2024-05-01T18:57:09.432651700Z",
     "start_time": "2024-05-01T18:57:09.410484800Z"
    }
   },
   "outputs": [
    {
     "data": {
      "text/plain": "1704"
     },
     "execution_count": 29,
     "metadata": {},
     "output_type": "execute_result"
    }
   ],
   "source": [
    "# 19 total scenes\n",
    "# good val segment: 000302 - 000402\n",
    "# okayish test segment 001505 - 001604\n",
    "# 101 images\n",
    "val = ge[302:403]\n",
    "test = ge[1505:1605]\n",
    "g = np.concatenate((ge[:302], ge[403:1505], ge[1605:]))\n",
    "len(g)"
   ]
  },
  {
   "cell_type": "code",
   "execution_count": 30,
   "id": "2fcf4646ed294141",
   "metadata": {
    "collapsed": false,
    "ExecuteTime": {
     "end_time": "2024-05-01T18:57:09.458632400Z",
     "start_time": "2024-05-01T18:57:09.415120200Z"
    }
   },
   "outputs": [
    {
     "data": {
      "text/plain": "1620"
     },
     "execution_count": 30,
     "metadata": {},
     "output_type": "execute_result"
    }
   ],
   "source": [
    "\n",
    "# get 44 extra random pictures\n",
    "np.random.shuffle(g)\n",
    "train = g[:-84]\n",
    "val = np.concatenate((val, g[-44:]))\n",
    "test = np.concatenate((test, g[-84:-44]))\n",
    "len(train)"
   ]
  },
  {
   "cell_type": "code",
   "execution_count": 31,
   "id": "c31f75ae2b3a1e28",
   "metadata": {
    "collapsed": false,
    "ExecuteTime": {
     "end_time": "2024-05-01T18:57:09.458632400Z",
     "start_time": "2024-05-01T18:57:09.423392Z"
    }
   },
   "outputs": [
    {
     "data": {
      "text/plain": "array([['frame_000027.PNG', 'frame_000027.txt'],\n       ['frame_001460.PNG', 'frame_001460.txt'],\n       ['frame_001771.PNG', 'frame_001771.txt'],\n       ...,\n       ['frame_001302.PNG', 'frame_001302.txt'],\n       ['frame_000710.PNG', 'frame_000710.txt'],\n       ['frame_000268.PNG', 'frame_000268.txt']], dtype='<U16')"
     },
     "execution_count": 31,
     "metadata": {},
     "output_type": "execute_result"
    }
   ],
   "source": [
    "train"
   ]
  },
  {
   "cell_type": "code",
   "execution_count": 32,
   "id": "6754a3beb851cc44",
   "metadata": {
    "collapsed": false,
    "ExecuteTime": {
     "end_time": "2024-05-01T18:57:09.459677Z",
     "start_time": "2024-05-01T18:57:09.427055900Z"
    }
   },
   "outputs": [
    {
     "data": {
      "text/plain": "array([['frame_000302.PNG', 'frame_000302.txt'],\n       ['frame_000303.PNG', 'frame_000303.txt'],\n       ['frame_000304.PNG', 'frame_000304.txt'],\n       ['frame_000305.PNG', 'frame_000305.txt'],\n       ['frame_000306.PNG', 'frame_000306.txt'],\n       ['frame_000307.PNG', 'frame_000307.txt'],\n       ['frame_000308.PNG', 'frame_000308.txt'],\n       ['frame_000309.PNG', 'frame_000309.txt'],\n       ['frame_000310.PNG', 'frame_000310.txt'],\n       ['frame_000311.PNG', 'frame_000311.txt'],\n       ['frame_000312.PNG', 'frame_000312.txt'],\n       ['frame_000313.PNG', 'frame_000313.txt'],\n       ['frame_000314.PNG', 'frame_000314.txt'],\n       ['frame_000315.PNG', 'frame_000315.txt'],\n       ['frame_000316.PNG', 'frame_000316.txt'],\n       ['frame_000317.PNG', 'frame_000317.txt'],\n       ['frame_000318.PNG', 'frame_000318.txt'],\n       ['frame_000319.PNG', 'frame_000319.txt'],\n       ['frame_000320.PNG', 'frame_000320.txt'],\n       ['frame_000321.PNG', 'frame_000321.txt'],\n       ['frame_000322.PNG', 'frame_000322.txt'],\n       ['frame_000323.PNG', 'frame_000323.txt'],\n       ['frame_000324.PNG', 'frame_000324.txt'],\n       ['frame_000325.PNG', 'frame_000325.txt'],\n       ['frame_000326.PNG', 'frame_000326.txt'],\n       ['frame_000327.PNG', 'frame_000327.txt'],\n       ['frame_000328.PNG', 'frame_000328.txt'],\n       ['frame_000329.PNG', 'frame_000329.txt'],\n       ['frame_000330.PNG', 'frame_000330.txt'],\n       ['frame_000331.PNG', 'frame_000331.txt'],\n       ['frame_000332.PNG', 'frame_000332.txt'],\n       ['frame_000333.PNG', 'frame_000333.txt'],\n       ['frame_000334.PNG', 'frame_000334.txt'],\n       ['frame_000335.PNG', 'frame_000335.txt'],\n       ['frame_000336.PNG', 'frame_000336.txt'],\n       ['frame_000337.PNG', 'frame_000337.txt'],\n       ['frame_000338.PNG', 'frame_000338.txt'],\n       ['frame_000339.PNG', 'frame_000339.txt'],\n       ['frame_000340.PNG', 'frame_000340.txt'],\n       ['frame_000341.PNG', 'frame_000341.txt'],\n       ['frame_000342.PNG', 'frame_000342.txt'],\n       ['frame_000343.PNG', 'frame_000343.txt'],\n       ['frame_000344.PNG', 'frame_000344.txt'],\n       ['frame_000345.PNG', 'frame_000345.txt'],\n       ['frame_000346.PNG', 'frame_000346.txt'],\n       ['frame_000347.PNG', 'frame_000347.txt'],\n       ['frame_000348.PNG', 'frame_000348.txt'],\n       ['frame_000349.PNG', 'frame_000349.txt'],\n       ['frame_000350.PNG', 'frame_000350.txt'],\n       ['frame_000351.PNG', 'frame_000351.txt'],\n       ['frame_000352.PNG', 'frame_000352.txt'],\n       ['frame_000353.PNG', 'frame_000353.txt'],\n       ['frame_000354.PNG', 'frame_000354.txt'],\n       ['frame_000355.PNG', 'frame_000355.txt'],\n       ['frame_000356.PNG', 'frame_000356.txt'],\n       ['frame_000357.PNG', 'frame_000357.txt'],\n       ['frame_000358.PNG', 'frame_000358.txt'],\n       ['frame_000359.PNG', 'frame_000359.txt'],\n       ['frame_000360.PNG', 'frame_000360.txt'],\n       ['frame_000361.PNG', 'frame_000361.txt'],\n       ['frame_000362.PNG', 'frame_000362.txt'],\n       ['frame_000363.PNG', 'frame_000363.txt'],\n       ['frame_000364.PNG', 'frame_000364.txt'],\n       ['frame_000365.PNG', 'frame_000365.txt'],\n       ['frame_000366.PNG', 'frame_000366.txt'],\n       ['frame_000367.PNG', 'frame_000367.txt'],\n       ['frame_000368.PNG', 'frame_000368.txt'],\n       ['frame_000369.PNG', 'frame_000369.txt'],\n       ['frame_000370.PNG', 'frame_000370.txt'],\n       ['frame_000371.PNG', 'frame_000371.txt'],\n       ['frame_000372.PNG', 'frame_000372.txt'],\n       ['frame_000373.PNG', 'frame_000373.txt'],\n       ['frame_000374.PNG', 'frame_000374.txt'],\n       ['frame_000375.PNG', 'frame_000375.txt'],\n       ['frame_000376.PNG', 'frame_000376.txt'],\n       ['frame_000377.PNG', 'frame_000377.txt'],\n       ['frame_000378.PNG', 'frame_000378.txt'],\n       ['frame_000379.PNG', 'frame_000379.txt'],\n       ['frame_000380.PNG', 'frame_000380.txt'],\n       ['frame_000381.PNG', 'frame_000381.txt'],\n       ['frame_000382.PNG', 'frame_000382.txt'],\n       ['frame_000383.PNG', 'frame_000383.txt'],\n       ['frame_000384.PNG', 'frame_000384.txt'],\n       ['frame_000385.PNG', 'frame_000385.txt'],\n       ['frame_000386.PNG', 'frame_000386.txt'],\n       ['frame_000387.PNG', 'frame_000387.txt'],\n       ['frame_000388.PNG', 'frame_000388.txt'],\n       ['frame_000389.PNG', 'frame_000389.txt'],\n       ['frame_000390.PNG', 'frame_000390.txt'],\n       ['frame_000391.PNG', 'frame_000391.txt'],\n       ['frame_000392.PNG', 'frame_000392.txt'],\n       ['frame_000393.PNG', 'frame_000393.txt'],\n       ['frame_000394.PNG', 'frame_000394.txt'],\n       ['frame_000395.PNG', 'frame_000395.txt'],\n       ['frame_000396.PNG', 'frame_000396.txt'],\n       ['frame_000397.PNG', 'frame_000397.txt'],\n       ['frame_000398.PNG', 'frame_000398.txt'],\n       ['frame_000399.PNG', 'frame_000399.txt'],\n       ['frame_000400.PNG', 'frame_000400.txt'],\n       ['frame_000401.PNG', 'frame_000401.txt'],\n       ['frame_000402.PNG', 'frame_000402.txt'],\n       ['frame_001084.PNG', 'frame_001084.txt'],\n       ['frame_000458.PNG', 'frame_000458.txt'],\n       ['frame_001268.PNG', 'frame_001268.txt'],\n       ['frame_000173.PNG', 'frame_000173.txt'],\n       ['frame_000011.PNG', 'frame_000011.txt'],\n       ['frame_001437.PNG', 'frame_001437.txt'],\n       ['frame_000938.PNG', 'frame_000938.txt'],\n       ['frame_000985.PNG', 'frame_000985.txt'],\n       ['frame_001289.PNG', 'frame_001289.txt'],\n       ['frame_001700.PNG', 'frame_001700.txt'],\n       ['frame_000247.PNG', 'frame_000247.txt'],\n       ['frame_000038.PNG', 'frame_000038.txt'],\n       ['frame_000030.PNG', 'frame_000030.txt'],\n       ['frame_000795.PNG', 'frame_000795.txt'],\n       ['frame_001195.PNG', 'frame_001195.txt'],\n       ['frame_001323.PNG', 'frame_001323.txt'],\n       ['frame_000896.PNG', 'frame_000896.txt'],\n       ['frame_001380.PNG', 'frame_001380.txt'],\n       ['frame_001339.PNG', 'frame_001339.txt'],\n       ['frame_001122.PNG', 'frame_001122.txt'],\n       ['frame_001629.PNG', 'frame_001629.txt'],\n       ['frame_001094.PNG', 'frame_001094.txt'],\n       ['frame_001752.PNG', 'frame_001752.txt'],\n       ['frame_000436.PNG', 'frame_000436.txt'],\n       ['frame_000726.PNG', 'frame_000726.txt'],\n       ['frame_000779.PNG', 'frame_000779.txt'],\n       ['frame_001360.PNG', 'frame_001360.txt'],\n       ['frame_000730.PNG', 'frame_000730.txt'],\n       ['frame_001064.PNG', 'frame_001064.txt'],\n       ['frame_000880.PNG', 'frame_000880.txt'],\n       ['frame_000535.PNG', 'frame_000535.txt'],\n       ['frame_001454.PNG', 'frame_001454.txt'],\n       ['frame_000264.PNG', 'frame_000264.txt'],\n       ['frame_001371.PNG', 'frame_001371.txt'],\n       ['frame_000871.PNG', 'frame_000871.txt'],\n       ['frame_000906.PNG', 'frame_000906.txt'],\n       ['frame_001856.PNG', 'frame_001856.txt'],\n       ['frame_000828.PNG', 'frame_000828.txt'],\n       ['frame_001367.PNG', 'frame_001367.txt'],\n       ['frame_000717.PNG', 'frame_000717.txt'],\n       ['frame_000059.PNG', 'frame_000059.txt'],\n       ['frame_001428.PNG', 'frame_001428.txt'],\n       ['frame_000945.PNG', 'frame_000945.txt'],\n       ['frame_001227.PNG', 'frame_001227.txt']], dtype='<U16')"
     },
     "execution_count": 32,
     "metadata": {},
     "output_type": "execute_result"
    }
   ],
   "source": [
    "val"
   ]
  },
  {
   "cell_type": "code",
   "execution_count": 33,
   "id": "0419da8b",
   "metadata": {
    "ExecuteTime": {
     "end_time": "2024-05-01T18:57:10.280734200Z",
     "start_time": "2024-05-01T18:57:09.437100200Z"
    }
   },
   "outputs": [],
   "source": [
    "# clear the output\n",
    "# splitted\n",
    "# -train\n",
    "# ---images\n",
    "# ---labels\n",
    "# -val\n",
    "# --images\n",
    "# --labels\n",
    "# -test\n",
    "# --images\n",
    "# --labels\n",
    "if os.path.exists(splitted_path) and os.path.isdir(splitted_path):\n",
    "    shutil.rmtree(splitted_path)\n",
    "pathlib.Path(os.path.join(splitted_path, \"images\", \"train\", )).mkdir(exist_ok=True, parents=True)\n",
    "pathlib.Path(os.path.join(splitted_path, \"images\", \"val\", )).mkdir(exist_ok=True, parents=True)\n",
    "pathlib.Path(os.path.join(splitted_path, \"images\", \"test\", )).mkdir(exist_ok=True, parents=True)\n",
    "pathlib.Path(os.path.join(splitted_path, \"labels\", \"train\", )).mkdir(exist_ok=True, parents=True)\n",
    "pathlib.Path(os.path.join(splitted_path, \"labels\", \"val\", )).mkdir(exist_ok=True, parents=True)\n",
    "pathlib.Path(os.path.join(splitted_path, \"labels\", \"test\", )).mkdir(exist_ok=True, parents=True)"
   ]
  },
  {
   "cell_type": "code",
   "execution_count": 34,
   "id": "e7a524b35e5d9425",
   "metadata": {
    "collapsed": false,
    "ExecuteTime": {
     "end_time": "2024-05-01T18:57:12.179672300Z",
     "start_time": "2024-05-01T18:57:10.279326400Z"
    }
   },
   "outputs": [],
   "source": [
    "for row in train:\n",
    "    shutil.copy(os.path.join(image_path, row[0]),f\"{splitted_path}/images/train/{row[0]}\")\n",
    "    shutil.copy(os.path.join(label_path, row[1]),f\"{splitted_path}/labels/train/{row[1]}\")"
   ]
  },
  {
   "cell_type": "code",
   "execution_count": 35,
   "id": "40260b2526b4217d",
   "metadata": {
    "collapsed": false,
    "ExecuteTime": {
     "end_time": "2024-05-01T18:57:12.357923600Z",
     "start_time": "2024-05-01T18:57:12.181168700Z"
    }
   },
   "outputs": [],
   "source": [
    "for row in val:\n",
    "    shutil.copy(os.path.join(image_path,row[0]),f\"{splitted_path}/images/val/{row[0]}\")\n",
    "    shutil.copy(os.path.join(label_path,row[1]),f\"{splitted_path}/labels/val/{row[1]}\")"
   ]
  },
  {
   "cell_type": "code",
   "execution_count": 36,
   "id": "24ea438f",
   "metadata": {
    "ExecuteTime": {
     "end_time": "2024-05-01T18:57:12.534054900Z",
     "start_time": "2024-05-01T18:57:12.359940100Z"
    }
   },
   "outputs": [],
   "source": [
    "for row in test:\n",
    "    shutil.copy(os.path.join(image_path,row[0]),f\"{splitted_path}/images/test/{row[0]}\")\n",
    "    shutil.copy(os.path.join(label_path,row[1]),f\"{splitted_path}/labels/test/{row[1]}\")"
   ]
  }
 ],
 "metadata": {
  "kernelspec": {
   "display_name": "Python 3",
   "language": "python",
   "name": "python3"
  },
  "language_info": {
   "codemirror_mode": {
    "name": "ipython",
    "version": 3
   },
   "file_extension": ".py",
   "mimetype": "text/x-python",
   "name": "python",
   "nbconvert_exporter": "python",
   "pygments_lexer": "ipython3",
   "version": "3.12.1"
  }
 },
 "nbformat": 4,
 "nbformat_minor": 5
}
