{
 "cells": [
  {
   "cell_type": "code",
   "execution_count": 1,
   "id": "initial_id",
   "metadata": {
    "ExecuteTime": {
     "end_time": "2024-04-30T15:35:28.400294700Z",
     "start_time": "2024-04-30T15:35:28.333766300Z"
    },
    "collapsed": true
   },
   "outputs": [],
   "source": [
    "import shutil\n",
    "import os\n",
    "import numpy as np\n",
    "import pathlib"
   ]
  },
  {
   "cell_type": "code",
   "execution_count": 2,
   "id": "28f9eccf",
   "metadata": {},
   "outputs": [],
   "source": [
    "file_location = \"../NAPLab-LiDAR\"\n",
    "image_path = os.path.join(file_location, \"images\")\n",
    "old_label_path = os.path.join(file_location, \"old_labels\")\n",
    "new_label_path = os.path.join(file_location, \"new_labels\")\n",
    "label_path = new_label_path\n",
    "split_path = os.path.join(file_location, \"splitted\")"
   ]
  },
  {
   "cell_type": "code",
   "execution_count": 3,
   "id": "4b93072585ae5b43",
   "metadata": {
    "ExecuteTime": {
     "end_time": "2024-04-30T15:35:28.433925100Z",
     "start_time": "2024-04-30T15:35:28.353537400Z"
    },
    "collapsed": false
   },
   "outputs": [],
   "source": [
    "img_names = os.listdir(image_path)\n",
    "txt_names = os.listdir(label_path)\n",
    "ge = np.array(list(zip(img_names, txt_names)))"
   ]
  },
  {
   "cell_type": "code",
   "execution_count": 4,
   "id": "051b76a9",
   "metadata": {},
   "outputs": [
    {
     "data": {
      "text/plain": [
       "1704"
      ]
     },
     "execution_count": 4,
     "metadata": {},
     "output_type": "execute_result"
    }
   ],
   "source": [
    "# 19 total scenes\n",
    "# good val segment: 000302 - 000402\n",
    "# okayish test segment 001505 - 001604\n",
    "# 101 images\n",
    "val = ge[302:403]\n",
    "test = ge[1505:1605]\n",
    "g = np.concatenate((ge[:302], ge[403:1505], ge[1605:]))\n",
    "len(g)"
   ]
  },
  {
   "cell_type": "code",
   "execution_count": 5,
   "id": "2fcf4646ed294141",
   "metadata": {
    "ExecuteTime": {
     "end_time": "2024-04-30T15:35:28.434963600Z",
     "start_time": "2024-04-30T15:35:28.394358200Z"
    },
    "collapsed": false
   },
   "outputs": [
    {
     "data": {
      "text/plain": [
       "1620"
      ]
     },
     "execution_count": 5,
     "metadata": {},
     "output_type": "execute_result"
    }
   ],
   "source": [
    "\n",
    "# get 44 extra random pictures\n",
    "np.random.shuffle(g)\n",
    "train = g[:-84]\n",
    "val = np.concatenate((val, g[-44:]))\n",
    "test = np.concatenate((test, g[-84:-44]))\n",
    "len(train)"
   ]
  },
  {
   "cell_type": "code",
   "execution_count": 6,
   "id": "c31f75ae2b3a1e28",
   "metadata": {
    "ExecuteTime": {
     "end_time": "2024-04-30T15:35:28.437126300Z",
     "start_time": "2024-04-30T15:35:28.401542100Z"
    },
    "collapsed": false
   },
   "outputs": [
    {
     "data": {
      "text/plain": [
       "array([['frame_001698.PNG', 'frame_001698.txt'],\n",
       "       ['frame_001607.PNG', 'frame_001607.txt'],\n",
       "       ['frame_001233.PNG', 'frame_001233.txt'],\n",
       "       ...,\n",
       "       ['frame_001808.PNG', 'frame_001808.txt'],\n",
       "       ['frame_000762.PNG', 'frame_000762.txt'],\n",
       "       ['frame_001853.PNG', 'frame_001853.txt']], dtype='<U16')"
      ]
     },
     "execution_count": 6,
     "metadata": {},
     "output_type": "execute_result"
    }
   ],
   "source": [
    "train"
   ]
  },
  {
   "cell_type": "code",
   "execution_count": 7,
   "id": "6754a3beb851cc44",
   "metadata": {
    "ExecuteTime": {
     "end_time": "2024-04-30T15:35:28.438121300Z",
     "start_time": "2024-04-30T15:35:28.415822Z"
    },
    "collapsed": false
   },
   "outputs": [
    {
     "data": {
      "text/plain": [
       "array([['frame_000302.PNG', 'frame_000302.txt'],\n",
       "       ['frame_000303.PNG', 'frame_000303.txt'],\n",
       "       ['frame_000304.PNG', 'frame_000304.txt'],\n",
       "       ['frame_000305.PNG', 'frame_000305.txt'],\n",
       "       ['frame_000306.PNG', 'frame_000306.txt'],\n",
       "       ['frame_000307.PNG', 'frame_000307.txt'],\n",
       "       ['frame_000308.PNG', 'frame_000308.txt'],\n",
       "       ['frame_000309.PNG', 'frame_000309.txt'],\n",
       "       ['frame_000310.PNG', 'frame_000310.txt'],\n",
       "       ['frame_000311.PNG', 'frame_000311.txt'],\n",
       "       ['frame_000312.PNG', 'frame_000312.txt'],\n",
       "       ['frame_000313.PNG', 'frame_000313.txt'],\n",
       "       ['frame_000314.PNG', 'frame_000314.txt'],\n",
       "       ['frame_000315.PNG', 'frame_000315.txt'],\n",
       "       ['frame_000316.PNG', 'frame_000316.txt'],\n",
       "       ['frame_000317.PNG', 'frame_000317.txt'],\n",
       "       ['frame_000318.PNG', 'frame_000318.txt'],\n",
       "       ['frame_000319.PNG', 'frame_000319.txt'],\n",
       "       ['frame_000320.PNG', 'frame_000320.txt'],\n",
       "       ['frame_000321.PNG', 'frame_000321.txt'],\n",
       "       ['frame_000322.PNG', 'frame_000322.txt'],\n",
       "       ['frame_000323.PNG', 'frame_000323.txt'],\n",
       "       ['frame_000324.PNG', 'frame_000324.txt'],\n",
       "       ['frame_000325.PNG', 'frame_000325.txt'],\n",
       "       ['frame_000326.PNG', 'frame_000326.txt'],\n",
       "       ['frame_000327.PNG', 'frame_000327.txt'],\n",
       "       ['frame_000328.PNG', 'frame_000328.txt'],\n",
       "       ['frame_000329.PNG', 'frame_000329.txt'],\n",
       "       ['frame_000330.PNG', 'frame_000330.txt'],\n",
       "       ['frame_000331.PNG', 'frame_000331.txt'],\n",
       "       ['frame_000332.PNG', 'frame_000332.txt'],\n",
       "       ['frame_000333.PNG', 'frame_000333.txt'],\n",
       "       ['frame_000334.PNG', 'frame_000334.txt'],\n",
       "       ['frame_000335.PNG', 'frame_000335.txt'],\n",
       "       ['frame_000336.PNG', 'frame_000336.txt'],\n",
       "       ['frame_000337.PNG', 'frame_000337.txt'],\n",
       "       ['frame_000338.PNG', 'frame_000338.txt'],\n",
       "       ['frame_000339.PNG', 'frame_000339.txt'],\n",
       "       ['frame_000340.PNG', 'frame_000340.txt'],\n",
       "       ['frame_000341.PNG', 'frame_000341.txt'],\n",
       "       ['frame_000342.PNG', 'frame_000342.txt'],\n",
       "       ['frame_000343.PNG', 'frame_000343.txt'],\n",
       "       ['frame_000344.PNG', 'frame_000344.txt'],\n",
       "       ['frame_000345.PNG', 'frame_000345.txt'],\n",
       "       ['frame_000346.PNG', 'frame_000346.txt'],\n",
       "       ['frame_000347.PNG', 'frame_000347.txt'],\n",
       "       ['frame_000348.PNG', 'frame_000348.txt'],\n",
       "       ['frame_000349.PNG', 'frame_000349.txt'],\n",
       "       ['frame_000350.PNG', 'frame_000350.txt'],\n",
       "       ['frame_000351.PNG', 'frame_000351.txt'],\n",
       "       ['frame_000352.PNG', 'frame_000352.txt'],\n",
       "       ['frame_000353.PNG', 'frame_000353.txt'],\n",
       "       ['frame_000354.PNG', 'frame_000354.txt'],\n",
       "       ['frame_000355.PNG', 'frame_000355.txt'],\n",
       "       ['frame_000356.PNG', 'frame_000356.txt'],\n",
       "       ['frame_000357.PNG', 'frame_000357.txt'],\n",
       "       ['frame_000358.PNG', 'frame_000358.txt'],\n",
       "       ['frame_000359.PNG', 'frame_000359.txt'],\n",
       "       ['frame_000360.PNG', 'frame_000360.txt'],\n",
       "       ['frame_000361.PNG', 'frame_000361.txt'],\n",
       "       ['frame_000362.PNG', 'frame_000362.txt'],\n",
       "       ['frame_000363.PNG', 'frame_000363.txt'],\n",
       "       ['frame_000364.PNG', 'frame_000364.txt'],\n",
       "       ['frame_000365.PNG', 'frame_000365.txt'],\n",
       "       ['frame_000366.PNG', 'frame_000366.txt'],\n",
       "       ['frame_000367.PNG', 'frame_000367.txt'],\n",
       "       ['frame_000368.PNG', 'frame_000368.txt'],\n",
       "       ['frame_000369.PNG', 'frame_000369.txt'],\n",
       "       ['frame_000370.PNG', 'frame_000370.txt'],\n",
       "       ['frame_000371.PNG', 'frame_000371.txt'],\n",
       "       ['frame_000372.PNG', 'frame_000372.txt'],\n",
       "       ['frame_000373.PNG', 'frame_000373.txt'],\n",
       "       ['frame_000374.PNG', 'frame_000374.txt'],\n",
       "       ['frame_000375.PNG', 'frame_000375.txt'],\n",
       "       ['frame_000376.PNG', 'frame_000376.txt'],\n",
       "       ['frame_000377.PNG', 'frame_000377.txt'],\n",
       "       ['frame_000378.PNG', 'frame_000378.txt'],\n",
       "       ['frame_000379.PNG', 'frame_000379.txt'],\n",
       "       ['frame_000380.PNG', 'frame_000380.txt'],\n",
       "       ['frame_000381.PNG', 'frame_000381.txt'],\n",
       "       ['frame_000382.PNG', 'frame_000382.txt'],\n",
       "       ['frame_000383.PNG', 'frame_000383.txt'],\n",
       "       ['frame_000384.PNG', 'frame_000384.txt'],\n",
       "       ['frame_000385.PNG', 'frame_000385.txt'],\n",
       "       ['frame_000386.PNG', 'frame_000386.txt'],\n",
       "       ['frame_000387.PNG', 'frame_000387.txt'],\n",
       "       ['frame_000388.PNG', 'frame_000388.txt'],\n",
       "       ['frame_000389.PNG', 'frame_000389.txt'],\n",
       "       ['frame_000390.PNG', 'frame_000390.txt'],\n",
       "       ['frame_000391.PNG', 'frame_000391.txt'],\n",
       "       ['frame_000392.PNG', 'frame_000392.txt'],\n",
       "       ['frame_000393.PNG', 'frame_000393.txt'],\n",
       "       ['frame_000394.PNG', 'frame_000394.txt'],\n",
       "       ['frame_000395.PNG', 'frame_000395.txt'],\n",
       "       ['frame_000396.PNG', 'frame_000396.txt'],\n",
       "       ['frame_000397.PNG', 'frame_000397.txt'],\n",
       "       ['frame_000398.PNG', 'frame_000398.txt'],\n",
       "       ['frame_000399.PNG', 'frame_000399.txt'],\n",
       "       ['frame_000400.PNG', 'frame_000400.txt'],\n",
       "       ['frame_000401.PNG', 'frame_000401.txt'],\n",
       "       ['frame_000402.PNG', 'frame_000402.txt'],\n",
       "       ['frame_000488.PNG', 'frame_000488.txt'],\n",
       "       ['frame_001302.PNG', 'frame_001302.txt'],\n",
       "       ['frame_001153.PNG', 'frame_001153.txt'],\n",
       "       ['frame_001072.PNG', 'frame_001072.txt'],\n",
       "       ['frame_000456.PNG', 'frame_000456.txt'],\n",
       "       ['frame_000977.PNG', 'frame_000977.txt'],\n",
       "       ['frame_000619.PNG', 'frame_000619.txt'],\n",
       "       ['frame_001723.PNG', 'frame_001723.txt'],\n",
       "       ['frame_001086.PNG', 'frame_001086.txt'],\n",
       "       ['frame_000667.PNG', 'frame_000667.txt'],\n",
       "       ['frame_000704.PNG', 'frame_000704.txt'],\n",
       "       ['frame_000592.PNG', 'frame_000592.txt'],\n",
       "       ['frame_001889.PNG', 'frame_001889.txt'],\n",
       "       ['frame_000666.PNG', 'frame_000666.txt'],\n",
       "       ['frame_000758.PNG', 'frame_000758.txt'],\n",
       "       ['frame_000094.PNG', 'frame_000094.txt'],\n",
       "       ['frame_001613.PNG', 'frame_001613.txt'],\n",
       "       ['frame_001101.PNG', 'frame_001101.txt'],\n",
       "       ['frame_000444.PNG', 'frame_000444.txt'],\n",
       "       ['frame_000683.PNG', 'frame_000683.txt'],\n",
       "       ['frame_001303.PNG', 'frame_001303.txt'],\n",
       "       ['frame_001681.PNG', 'frame_001681.txt'],\n",
       "       ['frame_001466.PNG', 'frame_001466.txt'],\n",
       "       ['frame_001088.PNG', 'frame_001088.txt'],\n",
       "       ['frame_000984.PNG', 'frame_000984.txt'],\n",
       "       ['frame_001482.PNG', 'frame_001482.txt'],\n",
       "       ['frame_000873.PNG', 'frame_000873.txt'],\n",
       "       ['frame_001885.PNG', 'frame_001885.txt'],\n",
       "       ['frame_000166.PNG', 'frame_000166.txt'],\n",
       "       ['frame_000654.PNG', 'frame_000654.txt'],\n",
       "       ['frame_000803.PNG', 'frame_000803.txt'],\n",
       "       ['frame_000839.PNG', 'frame_000839.txt'],\n",
       "       ['frame_000288.PNG', 'frame_000288.txt'],\n",
       "       ['frame_001749.PNG', 'frame_001749.txt'],\n",
       "       ['frame_001672.PNG', 'frame_001672.txt'],\n",
       "       ['frame_001341.PNG', 'frame_001341.txt'],\n",
       "       ['frame_001796.PNG', 'frame_001796.txt'],\n",
       "       ['frame_000055.PNG', 'frame_000055.txt'],\n",
       "       ['frame_000222.PNG', 'frame_000222.txt'],\n",
       "       ['frame_001286.PNG', 'frame_001286.txt'],\n",
       "       ['frame_000518.PNG', 'frame_000518.txt'],\n",
       "       ['frame_001820.PNG', 'frame_001820.txt'],\n",
       "       ['frame_000158.PNG', 'frame_000158.txt'],\n",
       "       ['frame_001763.PNG', 'frame_001763.txt']], dtype='<U16')"
      ]
     },
     "execution_count": 7,
     "metadata": {},
     "output_type": "execute_result"
    }
   ],
   "source": [
    "val"
   ]
  },
  {
   "cell_type": "code",
   "execution_count": 8,
   "id": "0419da8b",
   "metadata": {},
   "outputs": [],
   "source": [
    "# clear the output\n",
    "# splitted\n",
    "# -train\n",
    "# ---images\n",
    "# ---labels\n",
    "# -val\n",
    "# --images\n",
    "# --labels\n",
    "# -test\n",
    "# --images\n",
    "# --labels\n",
    "if os.path.exists(split_path) and os.path.isdir(split_path):\n",
    "    shutil.rmtree(split_path)\n",
    "pathlib.Path(os.path.join(split_path,\"images\",\"train\")).mkdir(exist_ok=True, parents=True)\n",
    "pathlib.Path(os.path.join(split_path,\"images\",\"val\")).mkdir(exist_ok=True, parents=True)\n",
    "pathlib.Path(os.path.join(split_path,\"images\",\"test\")).mkdir(exist_ok=True, parents=True)\n",
    "pathlib.Path(os.path.join(split_path,\"labels\",\"train\")).mkdir(exist_ok=True, parents=True)\n",
    "pathlib.Path(os.path.join(split_path,\"labels\",\"val\")).mkdir(exist_ok=True, parents=True)\n",
    "pathlib.Path(os.path.join(split_path,\"labels\",\"test\")).mkdir(exist_ok=True, parents=True)"
   ]
  },
  {
   "cell_type": "code",
   "execution_count": 9,
   "id": "e7a524b35e5d9425",
   "metadata": {
    "ExecuteTime": {
     "end_time": "2024-04-30T15:40:41.808977700Z",
     "start_time": "2024-04-30T15:40:35.604051100Z"
    },
    "collapsed": false
   },
   "outputs": [],
   "source": [
    "for row in train:\n",
    "    shutil.copy(os.path.join(image_path, row[0]),f\"{file_location}/splitted/images/train/{row[0]}\")\n",
    "    shutil.copy(os.path.join(label_path, row[1]),f\"{file_location}/splitted/labels/train/{row[1]}\")"
   ]
  },
  {
   "cell_type": "code",
   "execution_count": 10,
   "id": "40260b2526b4217d",
   "metadata": {
    "ExecuteTime": {
     "end_time": "2024-04-30T15:40:42.298138600Z",
     "start_time": "2024-04-30T15:40:41.813073500Z"
    },
    "collapsed": false
   },
   "outputs": [],
   "source": [
    "for row in val:\n",
    "    shutil.copy(os.path.join(image_path,row[0]),f\"{file_location}/splitted/images/val/{row[0]}\")\n",
    "    shutil.copy(os.path.join(label_path,row[1]),f\"{file_location}/splitted/labels/val/{row[1]}\")"
   ]
  },
  {
   "cell_type": "code",
   "execution_count": 11,
   "id": "24ea438f",
   "metadata": {},
   "outputs": [],
   "source": [
    "for row in test:\n",
    "    shutil.copy(os.path.join(image_path,row[0]),f\"{file_location}/splitted/images/test/{row[0]}\")\n",
    "    shutil.copy(os.path.join(label_path,row[1]),f\"{file_location}/splitted/labels/test/{row[1]}\")"
   ]
  }
 ],
 "metadata": {
  "kernelspec": {
   "display_name": "Python 3",
   "language": "python",
   "name": "python3"
  },
  "language_info": {
   "codemirror_mode": {
    "name": "ipython",
    "version": 3
   },
   "file_extension": ".py",
   "mimetype": "text/x-python",
   "name": "python",
   "nbconvert_exporter": "python",
   "pygments_lexer": "ipython3",
   "version": "3.12.1"
  }
 },
 "nbformat": 4,
 "nbformat_minor": 5
}
