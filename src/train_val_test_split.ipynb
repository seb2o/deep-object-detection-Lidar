{
 "cells": [
  {
   "cell_type": "code",
   "execution_count": 13,
   "id": "initial_id",
   "metadata": {
    "ExecuteTime": {
     "end_time": "2024-04-30T15:35:28.400294700Z",
     "start_time": "2024-04-30T15:35:28.333766300Z"
    },
    "collapsed": true
   },
   "outputs": [],
   "source": [
    "import shutil\n",
    "import os\n",
    "import numpy as np\n",
    "import pathlib"
   ]
  },
  {
   "cell_type": "code",
   "execution_count": 14,
   "id": "28f9eccf",
   "metadata": {},
   "outputs": [],
   "source": [
    "file_location = \"../NAPLab-LiDAR\"\n",
    "image_path = os.path.join(file_location, \"images\")\n",
    "old_label_path = os.path.join(file_location, \"old_labels\")\n",
    "new_label_path = os.path.join(file_location, \"new_labels\")\n",
    "label_path = new_label_path\n",
    "split_path = os.path.join(file_location, \"splitted\")"
   ]
  },
  {
   "cell_type": "code",
   "execution_count": 3,
   "id": "4b93072585ae5b43",
   "metadata": {
    "ExecuteTime": {
     "end_time": "2024-04-30T15:35:28.433925100Z",
     "start_time": "2024-04-30T15:35:28.353537400Z"
    },
    "collapsed": false
   },
   "outputs": [],
   "source": [
    "img_names = os.listdir(image_path)\n",
    "txt_names = os.listdir(label_path)\n",
    "ge = np.array(list(zip(img_names, txt_names)))"
   ]
  },
  {
   "cell_type": "code",
   "execution_count": 9,
   "id": "051b76a9",
   "metadata": {},
   "outputs": [
    {
     "data": {
      "text/plain": [
       "1804"
      ]
     },
     "execution_count": 9,
     "metadata": {},
     "output_type": "execute_result"
    }
   ],
   "source": [
    "#good test segment: 000302 - 000402\n",
    "# 101 images\n",
    "val = ge[302:403]\n",
    "g = np.concatenate((ge[:302], ge[403:]))\n",
    "len(g)"
   ]
  },
  {
   "cell_type": "code",
   "execution_count": 10,
   "id": "2fcf4646ed294141",
   "metadata": {
    "ExecuteTime": {
     "end_time": "2024-04-30T15:35:28.434963600Z",
     "start_time": "2024-04-30T15:35:28.394358200Z"
    },
    "collapsed": false
   },
   "outputs": [
    {
     "data": {
      "text/plain": [
       "1760"
      ]
     },
     "execution_count": 10,
     "metadata": {},
     "output_type": "execute_result"
    }
   ],
   "source": [
    "\n",
    "# get 44 extra random pictures\n",
    "np.random.shuffle(g)\n",
    "train = g[:-44]\n",
    "val = np.concatenate((val, g[-44:]))\n",
    "len(train)"
   ]
  },
  {
   "cell_type": "code",
   "execution_count": 11,
   "id": "c31f75ae2b3a1e28",
   "metadata": {
    "ExecuteTime": {
     "end_time": "2024-04-30T15:35:28.437126300Z",
     "start_time": "2024-04-30T15:35:28.401542100Z"
    },
    "collapsed": false
   },
   "outputs": [
    {
     "data": {
      "text/plain": [
       "array([['frame_001406.PNG', 'frame_001406.txt'],\n",
       "       ['frame_001131.PNG', 'frame_001131.txt'],\n",
       "       ['frame_001191.PNG', 'frame_001191.txt'],\n",
       "       ...,\n",
       "       ['frame_001507.PNG', 'frame_001507.txt'],\n",
       "       ['frame_001535.PNG', 'frame_001535.txt'],\n",
       "       ['frame_000165.PNG', 'frame_000165.txt']], dtype='<U16')"
      ]
     },
     "execution_count": 11,
     "metadata": {},
     "output_type": "execute_result"
    }
   ],
   "source": [
    "train"
   ]
  },
  {
   "cell_type": "code",
   "execution_count": 12,
   "id": "6754a3beb851cc44",
   "metadata": {
    "ExecuteTime": {
     "end_time": "2024-04-30T15:35:28.438121300Z",
     "start_time": "2024-04-30T15:35:28.415822Z"
    },
    "collapsed": false
   },
   "outputs": [
    {
     "data": {
      "text/plain": [
       "array([['frame_000302.PNG', 'frame_000302.txt'],\n",
       "       ['frame_000303.PNG', 'frame_000303.txt'],\n",
       "       ['frame_000304.PNG', 'frame_000304.txt'],\n",
       "       ['frame_000305.PNG', 'frame_000305.txt'],\n",
       "       ['frame_000306.PNG', 'frame_000306.txt'],\n",
       "       ['frame_000307.PNG', 'frame_000307.txt'],\n",
       "       ['frame_000308.PNG', 'frame_000308.txt'],\n",
       "       ['frame_000309.PNG', 'frame_000309.txt'],\n",
       "       ['frame_000310.PNG', 'frame_000310.txt'],\n",
       "       ['frame_000311.PNG', 'frame_000311.txt'],\n",
       "       ['frame_000312.PNG', 'frame_000312.txt'],\n",
       "       ['frame_000313.PNG', 'frame_000313.txt'],\n",
       "       ['frame_000314.PNG', 'frame_000314.txt'],\n",
       "       ['frame_000315.PNG', 'frame_000315.txt'],\n",
       "       ['frame_000316.PNG', 'frame_000316.txt'],\n",
       "       ['frame_000317.PNG', 'frame_000317.txt'],\n",
       "       ['frame_000318.PNG', 'frame_000318.txt'],\n",
       "       ['frame_000319.PNG', 'frame_000319.txt'],\n",
       "       ['frame_000320.PNG', 'frame_000320.txt'],\n",
       "       ['frame_000321.PNG', 'frame_000321.txt'],\n",
       "       ['frame_000322.PNG', 'frame_000322.txt'],\n",
       "       ['frame_000323.PNG', 'frame_000323.txt'],\n",
       "       ['frame_000324.PNG', 'frame_000324.txt'],\n",
       "       ['frame_000325.PNG', 'frame_000325.txt'],\n",
       "       ['frame_000326.PNG', 'frame_000326.txt'],\n",
       "       ['frame_000327.PNG', 'frame_000327.txt'],\n",
       "       ['frame_000328.PNG', 'frame_000328.txt'],\n",
       "       ['frame_000329.PNG', 'frame_000329.txt'],\n",
       "       ['frame_000330.PNG', 'frame_000330.txt'],\n",
       "       ['frame_000331.PNG', 'frame_000331.txt'],\n",
       "       ['frame_000332.PNG', 'frame_000332.txt'],\n",
       "       ['frame_000333.PNG', 'frame_000333.txt'],\n",
       "       ['frame_000334.PNG', 'frame_000334.txt'],\n",
       "       ['frame_000335.PNG', 'frame_000335.txt'],\n",
       "       ['frame_000336.PNG', 'frame_000336.txt'],\n",
       "       ['frame_000337.PNG', 'frame_000337.txt'],\n",
       "       ['frame_000338.PNG', 'frame_000338.txt'],\n",
       "       ['frame_000339.PNG', 'frame_000339.txt'],\n",
       "       ['frame_000340.PNG', 'frame_000340.txt'],\n",
       "       ['frame_000341.PNG', 'frame_000341.txt'],\n",
       "       ['frame_000342.PNG', 'frame_000342.txt'],\n",
       "       ['frame_000343.PNG', 'frame_000343.txt'],\n",
       "       ['frame_000344.PNG', 'frame_000344.txt'],\n",
       "       ['frame_000345.PNG', 'frame_000345.txt'],\n",
       "       ['frame_000346.PNG', 'frame_000346.txt'],\n",
       "       ['frame_000347.PNG', 'frame_000347.txt'],\n",
       "       ['frame_000348.PNG', 'frame_000348.txt'],\n",
       "       ['frame_000349.PNG', 'frame_000349.txt'],\n",
       "       ['frame_000350.PNG', 'frame_000350.txt'],\n",
       "       ['frame_000351.PNG', 'frame_000351.txt'],\n",
       "       ['frame_000352.PNG', 'frame_000352.txt'],\n",
       "       ['frame_000353.PNG', 'frame_000353.txt'],\n",
       "       ['frame_000354.PNG', 'frame_000354.txt'],\n",
       "       ['frame_000355.PNG', 'frame_000355.txt'],\n",
       "       ['frame_000356.PNG', 'frame_000356.txt'],\n",
       "       ['frame_000357.PNG', 'frame_000357.txt'],\n",
       "       ['frame_000358.PNG', 'frame_000358.txt'],\n",
       "       ['frame_000359.PNG', 'frame_000359.txt'],\n",
       "       ['frame_000360.PNG', 'frame_000360.txt'],\n",
       "       ['frame_000361.PNG', 'frame_000361.txt'],\n",
       "       ['frame_000362.PNG', 'frame_000362.txt'],\n",
       "       ['frame_000363.PNG', 'frame_000363.txt'],\n",
       "       ['frame_000364.PNG', 'frame_000364.txt'],\n",
       "       ['frame_000365.PNG', 'frame_000365.txt'],\n",
       "       ['frame_000366.PNG', 'frame_000366.txt'],\n",
       "       ['frame_000367.PNG', 'frame_000367.txt'],\n",
       "       ['frame_000368.PNG', 'frame_000368.txt'],\n",
       "       ['frame_000369.PNG', 'frame_000369.txt'],\n",
       "       ['frame_000370.PNG', 'frame_000370.txt'],\n",
       "       ['frame_000371.PNG', 'frame_000371.txt'],\n",
       "       ['frame_000372.PNG', 'frame_000372.txt'],\n",
       "       ['frame_000373.PNG', 'frame_000373.txt'],\n",
       "       ['frame_000374.PNG', 'frame_000374.txt'],\n",
       "       ['frame_000375.PNG', 'frame_000375.txt'],\n",
       "       ['frame_000376.PNG', 'frame_000376.txt'],\n",
       "       ['frame_000377.PNG', 'frame_000377.txt'],\n",
       "       ['frame_000378.PNG', 'frame_000378.txt'],\n",
       "       ['frame_000379.PNG', 'frame_000379.txt'],\n",
       "       ['frame_000380.PNG', 'frame_000380.txt'],\n",
       "       ['frame_000381.PNG', 'frame_000381.txt'],\n",
       "       ['frame_000382.PNG', 'frame_000382.txt'],\n",
       "       ['frame_000383.PNG', 'frame_000383.txt'],\n",
       "       ['frame_000384.PNG', 'frame_000384.txt'],\n",
       "       ['frame_000385.PNG', 'frame_000385.txt'],\n",
       "       ['frame_000386.PNG', 'frame_000386.txt'],\n",
       "       ['frame_000387.PNG', 'frame_000387.txt'],\n",
       "       ['frame_000388.PNG', 'frame_000388.txt'],\n",
       "       ['frame_000389.PNG', 'frame_000389.txt'],\n",
       "       ['frame_000390.PNG', 'frame_000390.txt'],\n",
       "       ['frame_000391.PNG', 'frame_000391.txt'],\n",
       "       ['frame_000392.PNG', 'frame_000392.txt'],\n",
       "       ['frame_000393.PNG', 'frame_000393.txt'],\n",
       "       ['frame_000394.PNG', 'frame_000394.txt'],\n",
       "       ['frame_000395.PNG', 'frame_000395.txt'],\n",
       "       ['frame_000396.PNG', 'frame_000396.txt'],\n",
       "       ['frame_000397.PNG', 'frame_000397.txt'],\n",
       "       ['frame_000398.PNG', 'frame_000398.txt'],\n",
       "       ['frame_000399.PNG', 'frame_000399.txt'],\n",
       "       ['frame_000400.PNG', 'frame_000400.txt'],\n",
       "       ['frame_000401.PNG', 'frame_000401.txt'],\n",
       "       ['frame_000402.PNG', 'frame_000402.txt'],\n",
       "       ['frame_001313.PNG', 'frame_001313.txt'],\n",
       "       ['frame_000699.PNG', 'frame_000699.txt'],\n",
       "       ['frame_000677.PNG', 'frame_000677.txt'],\n",
       "       ['frame_000557.PNG', 'frame_000557.txt'],\n",
       "       ['frame_000648.PNG', 'frame_000648.txt'],\n",
       "       ['frame_001348.PNG', 'frame_001348.txt'],\n",
       "       ['frame_001536.PNG', 'frame_001536.txt'],\n",
       "       ['frame_000472.PNG', 'frame_000472.txt'],\n",
       "       ['frame_001707.PNG', 'frame_001707.txt'],\n",
       "       ['frame_001890.PNG', 'frame_001890.txt'],\n",
       "       ['frame_000897.PNG', 'frame_000897.txt'],\n",
       "       ['frame_001683.PNG', 'frame_001683.txt'],\n",
       "       ['frame_001092.PNG', 'frame_001092.txt'],\n",
       "       ['frame_001189.PNG', 'frame_001189.txt'],\n",
       "       ['frame_000162.PNG', 'frame_000162.txt'],\n",
       "       ['frame_001720.PNG', 'frame_001720.txt'],\n",
       "       ['frame_001033.PNG', 'frame_001033.txt'],\n",
       "       ['frame_001179.PNG', 'frame_001179.txt'],\n",
       "       ['frame_001209.PNG', 'frame_001209.txt'],\n",
       "       ['frame_001793.PNG', 'frame_001793.txt'],\n",
       "       ['frame_000666.PNG', 'frame_000666.txt'],\n",
       "       ['frame_000678.PNG', 'frame_000678.txt'],\n",
       "       ['frame_001064.PNG', 'frame_001064.txt'],\n",
       "       ['frame_001039.PNG', 'frame_001039.txt'],\n",
       "       ['frame_001593.PNG', 'frame_001593.txt'],\n",
       "       ['frame_000759.PNG', 'frame_000759.txt'],\n",
       "       ['frame_001206.PNG', 'frame_001206.txt'],\n",
       "       ['frame_001177.PNG', 'frame_001177.txt'],\n",
       "       ['frame_001849.PNG', 'frame_001849.txt'],\n",
       "       ['frame_000920.PNG', 'frame_000920.txt'],\n",
       "       ['frame_000649.PNG', 'frame_000649.txt'],\n",
       "       ['frame_001718.PNG', 'frame_001718.txt'],\n",
       "       ['frame_000672.PNG', 'frame_000672.txt'],\n",
       "       ['frame_000695.PNG', 'frame_000695.txt'],\n",
       "       ['frame_001619.PNG', 'frame_001619.txt'],\n",
       "       ['frame_000993.PNG', 'frame_000993.txt'],\n",
       "       ['frame_001747.PNG', 'frame_001747.txt'],\n",
       "       ['frame_000785.PNG', 'frame_000785.txt'],\n",
       "       ['frame_000831.PNG', 'frame_000831.txt'],\n",
       "       ['frame_000537.PNG', 'frame_000537.txt'],\n",
       "       ['frame_000406.PNG', 'frame_000406.txt'],\n",
       "       ['frame_001627.PNG', 'frame_001627.txt'],\n",
       "       ['frame_000547.PNG', 'frame_000547.txt'],\n",
       "       ['frame_000416.PNG', 'frame_000416.txt']], dtype='<U16')"
      ]
     },
     "execution_count": 12,
     "metadata": {},
     "output_type": "execute_result"
    }
   ],
   "source": [
    "val"
   ]
  },
  {
   "cell_type": "code",
   "execution_count": 17,
   "id": "0419da8b",
   "metadata": {},
   "outputs": [],
   "source": [
    "# clear the output\n",
    "# splitted\n",
    "# -images\n",
    "# ---train\n",
    "# ---val\n",
    "# -labels\n",
    "# --train\n",
    "# --val\n",
    "if os.path.exists(split_path) and os.path.isdir(split_path):\n",
    "    shutil.rmtree(split_path)\n",
    "pathlib.Path(os.path.join(split_path,\"images\",\"train\")).mkdir(exist_ok=True, parents=True)\n",
    "pathlib.Path(os.path.join(split_path,\"images\",\"val\")).mkdir(exist_ok=True, parents=True)\n",
    "pathlib.Path(os.path.join(split_path,\"labels\",\"train\")).mkdir(exist_ok=True, parents=True)\n",
    "pathlib.Path(os.path.join(split_path,\"labels\",\"val\")).mkdir(exist_ok=True, parents=True)"
   ]
  },
  {
   "cell_type": "code",
   "execution_count": 18,
   "id": "e7a524b35e5d9425",
   "metadata": {
    "ExecuteTime": {
     "end_time": "2024-04-30T15:40:41.808977700Z",
     "start_time": "2024-04-30T15:40:35.604051100Z"
    },
    "collapsed": false
   },
   "outputs": [],
   "source": [
    "for row in train:\n",
    "    shutil.copy(os.path.join(image_path, row[0]),f\"{file_location}/splitted/images/train/{row[0]}\")\n",
    "    shutil.copy(os.path.join(label_path, row[1]),f\"{file_location}/splitted/labels/train/{row[1]}\")"
   ]
  },
  {
   "cell_type": "code",
   "execution_count": 19,
   "id": "40260b2526b4217d",
   "metadata": {
    "ExecuteTime": {
     "end_time": "2024-04-30T15:40:42.298138600Z",
     "start_time": "2024-04-30T15:40:41.813073500Z"
    },
    "collapsed": false
   },
   "outputs": [],
   "source": [
    "for row in val:\n",
    "    shutil.copy(os.path.join(image_path,row[0]),f\"{file_location}/splitted/images/val/{row[0]}\")\n",
    "    shutil.copy(os.path.join(label_path,row[1]),f\"{file_location}/splitted/labels/val/{row[1]}\")"
   ]
  }
 ],
 "metadata": {
  "kernelspec": {
   "display_name": "Python 3",
   "language": "python",
   "name": "python3"
  },
  "language_info": {
   "codemirror_mode": {
    "name": "ipython",
    "version": 3
   },
   "file_extension": ".py",
   "mimetype": "text/x-python",
   "name": "python",
   "nbconvert_exporter": "python",
   "pygments_lexer": "ipython3",
   "version": "3.12.1"
  }
 },
 "nbformat": 4,
 "nbformat_minor": 5
}
