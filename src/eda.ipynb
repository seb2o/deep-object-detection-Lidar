{
 "cells": [
  {
   "cell_type": "code",
   "execution_count": 101,
   "id": "initial_id",
   "metadata": {
    "collapsed": true,
    "ExecuteTime": {
     "end_time": "2024-04-29T15:18:10.020856800Z",
     "start_time": "2024-04-29T15:18:10.010274600Z"
    }
   },
   "outputs": [],
   "source": [
    "import os\n",
    "\n",
    "import matplotlib.pyplot as plt\n",
    "import numpy as np\n",
    "import pandas as pd"
   ]
  },
  {
   "cell_type": "code",
   "outputs": [
    {
     "data": {
      "text/plain": "['car', 'truck', 'bus', 'motorcycle', 'bicycle', 'scooter', 'person', 'rider']"
     },
     "execution_count": 102,
     "metadata": {},
     "output_type": "execute_result"
    }
   ],
   "source": [
    "files = os.listdir('../NAPLab-LiDAR/labels/')\n",
    "with open(\"../NAPLab-LiDAR/names.txt\", 'r') as names:\n",
    "    class_names = [name for name in names.read().split('\\n') if name]\n",
    "class_names"
   ],
   "metadata": {
    "collapsed": false,
    "ExecuteTime": {
     "end_time": "2024-04-29T15:18:10.024882Z",
     "start_time": "2024-04-29T15:18:10.014872900Z"
    }
   },
   "id": "754230169b5655e9",
   "execution_count": 102
  },
  {
   "cell_type": "code",
   "outputs": [],
   "source": [
    "col_labels = ['classID', 'x', 'y', 'width', 'height']\n",
    "dataset_boxes = pd.concat([\n",
    "    pd.read_csv(\n",
    "        f\"../NAPLab-LiDAR/labels/{filename}\",\n",
    "        sep=' ',\n",
    "        names=col_labels)\n",
    "    .reindex(['frame', *col_labels], axis='columns')\n",
    "    .assign(frame=filename)\n",
    "    for filename in files\n",
    "], ignore_index=True)"
   ],
   "metadata": {
    "collapsed": false,
    "ExecuteTime": {
     "end_time": "2024-04-29T15:18:12.582730600Z",
     "start_time": "2024-04-29T15:18:10.023862500Z"
    }
   },
   "id": "3a232d4646d762a6",
   "execution_count": 103
  },
  {
   "cell_type": "markdown",
   "source": [
    "boxes per image"
   ],
   "metadata": {
    "collapsed": false
   },
   "id": "edf2ec4ff2622934"
  },
  {
   "cell_type": "code",
   "outputs": [
    {
     "data": {
      "text/plain": "count    1905.000000\nmean       12.372178\nstd         6.456428\nmin         1.000000\n25%         8.000000\n50%        13.000000\n75%        16.000000\nmax        53.000000\nName: classID, dtype: float64"
     },
     "execution_count": 104,
     "metadata": {},
     "output_type": "execute_result"
    }
   ],
   "source": [
    "dataset_boxes.groupby('frame')['classID'].agg(len).describe()"
   ],
   "metadata": {
    "collapsed": false,
    "ExecuteTime": {
     "end_time": "2024-04-29T15:18:12.620381300Z",
     "start_time": "2024-04-29T15:18:12.584931700Z"
    }
   },
   "id": "cac1be541bca29ce",
   "execution_count": 104
  },
  {
   "cell_type": "code",
   "outputs": [
    {
     "data": {
      "text/plain": "(array([0, 1, 2, 4, 5, 6, 7], dtype=int64),\n array([10901,   123,   532,  1033,   588,  8506,  1886], dtype=int64))"
     },
     "execution_count": 105,
     "metadata": {},
     "output_type": "execute_result"
    }
   ],
   "source": [
    "class_count = np.unique(dataset_boxes.classID.values, return_counts=True)\n",
    "class_count"
   ],
   "metadata": {
    "collapsed": false,
    "ExecuteTime": {
     "end_time": "2024-04-29T15:18:12.620381300Z",
     "start_time": "2024-04-29T15:18:12.615759100Z"
    }
   },
   "id": "bd34c2d5e7d4edca",
   "execution_count": 105
  },
  {
   "cell_type": "code",
   "outputs": [
    {
     "data": {
      "text/plain": "['car', 'truck', 'bus', 'motorcycle', 'bicycle', 'scooter', 'person', 'rider']"
     },
     "execution_count": 106,
     "metadata": {},
     "output_type": "execute_result"
    },
    {
     "data": {
      "text/plain": "<Figure size 640x480 with 1 Axes>",
      "image/png": "[encoded data removed]"
     },
     "metadata": {},
     "output_type": "display_data"
    }
   ],
   "source": [
    "plt.bar(*class_count)\n",
    "class_names"
   ],
   "metadata": {
    "collapsed": false,
    "ExecuteTime": {
     "end_time": "2024-04-29T15:18:12.736048800Z",
     "start_time": "2024-04-29T15:18:12.638149800Z"
    }
   },
   "id": "816c1ac269cc25f4",
   "execution_count": 106
  }
 ],
 "metadata": {
  "kernelspec": {
   "display_name": "Python 3",
   "language": "python",
   "name": "python3"
  },
  "language_info": {
   "codemirror_mode": {
    "name": "ipython",
    "version": 2
   },
   "file_extension": ".py",
   "mimetype": "text/x-python",
   "name": "python",
   "nbconvert_exporter": "python",
   "pygments_lexer": "ipython2",
   "version": "2.7.6"
  }
 },
 "nbformat": 4,
 "nbformat_minor": 5
}
